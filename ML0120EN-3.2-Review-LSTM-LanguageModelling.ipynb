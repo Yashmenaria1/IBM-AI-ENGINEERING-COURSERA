{
 "cells": [
  {
   "cell_type": "markdown",
   "metadata": {},
   "source": [
    "<img src=\"https://cf-courses-data.s3.us.cloud-object-storage.appdomain.cloud/IBMDeveloperSkillsNetwork-DL0120EN-SkillsNetwork/images/IDSN-logo.png\" width=\"300\" alt=\"cognitiveclass.ai logo\">\n",
    "\n",
    "<h1 align=\"center\"><font size=\"5\">RECURRENT NETWORKS and LSTM IN DEEP LEARNING</font></h1>\n"
   ]
  },
  {
   "cell_type": "markdown",
   "metadata": {},
   "source": [
    "Estimated time needed: **30** minutes\n"
   ]
  },
  {
   "cell_type": "markdown",
   "metadata": {},
   "source": [
    "<h2>Applying Recurrent Neural Networks/LSTM for Language Modeling</h2>\n",
    "Hello and welcome to this part. In this notebook, we will go over the topic of Language Modelling, and create a Recurrent Neural Network model based on the Long Short-Term Memory unit to train and benchmark on the Penn Treebank dataset. By the end of this notebook, you should be able to understand how TensorFlow builds and executes a RNN model for Language Modelling.\n"
   ]
  },
  {
   "cell_type": "markdown",
   "metadata": {},
   "source": [
    "<h2>The Objective</h2>\n",
    "By now, you should have an understanding of how Recurrent Networks work -- a specialized model to process sequential data by keeping track of the \"state\" or context. In this notebook, we go over a TensorFlow code snippet for creating a model focused on <b>Language Modelling</b> -- a very relevant task that is the cornerstone of many different linguistic problems such as <b>Speech Recognition, Machine Translation and Image Captioning</b>. For this, we will be using the Penn Treebank dataset, which is an often-used dataset for benchmarking Language Modelling models.\n"
   ]
  },
  {
   "cell_type": "markdown",
   "metadata": {},
   "source": [
    "\n",
    "<h2>Table of Contents</h2>\n",
    "<ol>\n",
    "    <li><a href=\"#language_modelling\">What exactly is Language Modelling?</a></li>\n",
    "    <li><a href=\"#treebank_dataset\">The Penn Treebank dataset</a></li>\n",
    "    <li><a href=\"#word_embedding\">Word Embedding</a></li>\n",
    "    <li><a href=\"#building_lstm_model\">Building the LSTM model for Language Modeling</a></li>\n",
    "    <li><a href=\"#ltsm\">LTSM</a></li>\n",
    "</ol>\n",
    "<p></p>\n",
    "</div>\n",
    "<br>\n"
   ]
  },
  {
   "cell_type": "markdown",
   "metadata": {},
   "source": [
    "--------\n"
   ]
  },
  {
   "cell_type": "markdown",
   "metadata": {},
   "source": [
    "<a id=\"language_modelling\"></a>\n",
    "<h2>What exactly is Language Modelling?</h2>\n",
    "Language Modelling, to put it simply, <b>is the task of assigning probabilities to sequences of words</b>. This means that, given a context of one or a sequence of words in the language the model was trained on, the model should provide the next most probable words or sequence of words that follows from the given sequence of words the sentence. Language Modelling is one of the most important tasks in Natural Language Processing.\n",
    "\n",
    "<img src=\"https://ibm.box.com/shared/static/1d1i5gub6wljby2vani2vzxp0xsph702.png\" width=\"1080\">\n",
    "<center><i>Example of a sentence being predicted</i></center>\n",
    "<br><br>\n",
    "In this example, one can see the predictions for the next word of a sentence, given the context \"This is an\". As you can see, this boils down to a sequential data analysis task -- you are given a word or a sequence of words (the input data), and, given the context (the state), you need to find out what is the next word (the prediction). This kind of analysis is very important for language-related tasks such as <b>Speech Recognition, Machine Translation, Image Captioning, Text Correction</b> and many other very relevant problems. \n",
    "\n",
    "<img src=\"https://ibm.box.com/shared/static/az39idf9ipfdpc5ugifpgxnydelhyf3i.png\" width=\"1080\">\n",
    "<center><i>The above example is a schema of an RNN in execution</i></center>\n",
    "<br><br>\n",
    "As the above image shows, Recurrent Network models fit this problem like a glove. Alongside LSTM and its capacity to maintain the model's state for over one thousand time steps, we have all the tools we need to undertake this problem. The goal for this notebook is to create a model that can reach <b>low levels of perplexity</b> on our desired dataset.\n",
    "\n",
    "For Language Modelling problems, <b>perplexity</b> is the way to gauge efficiency. Perplexity is simply a measure of how well a probabilistic model is able to predict its sample. A higher-level way to explain this would be saying that <b>low perplexity means a higher degree of trust in the predictions the model makes</b>. Therefore, the lower perplexity is, the better.\n"
   ]
  },
  {
   "cell_type": "markdown",
   "metadata": {},
   "source": [
    "<a id=\"treebank_dataset\"></a>\n",
    "<h2>The Penn Treebank dataset</h2>\n",
    "Historically, datasets big enough for Natural Language Processing are hard to come by. This is in part due to the necessity of the sentences to be broken down and tagged with a certain degree of correctness -- or else the models trained on it won't be able to be correct at all. This means that we need a <b>large amount of data, annotated by or at least corrected by humans</b>. This is, of course, not an easy task at all.\n",
    "\n",
    "The Penn Treebank, or PTB for short, is a dataset maintained by the University of Pennsylvania. It is <i>huge</i> -- there are over <b>four million and eight hundred thousand</b> annotated words in it, all corrected by humans. It is composed of many different sources, from abstracts of Department of Energy papers to texts from the Library of America. Since it is verifiably correct and of such a huge size, the Penn Treebank is commonly used as a benchmark dataset for Language Modelling.\n",
    "\n",
    "The dataset is divided in different kinds of annotations, such as Piece-of-Speech, Syntactic and Semantic skeletons. For this example, we will simply use a sample of clean, non-annotated words (with the exception of one tag --<code>&lt;unk&gt;</code>\n",
    ", which is used for rare words such as uncommon proper nouns) for our model. This means that we just want to predict what the next words would be, not what they mean in context or their classes on a given sentence.\n",
    "\n",
    "<center>Example of text from the dataset we are going to use, <b>ptb.train</b></center>\n",
    "<br><br>\n",
    "\n",
    "<div class=\"alert alert-block alert-info\" style=\"margin-top: 20px\">\n",
    "    <center>the percentage of lung cancer deaths among the workers at the west <code>&lt;unk&gt;</code> mass. paper factory appears to be the highest for any asbestos workers studied in western industrialized countries he said \n",
    " the plant which is owned by <code>&lt;unk&gt;</code> & <code>&lt;unk&gt;</code> co. was under contract with <code>&lt;unk&gt;</code> to make the cigarette filters \n",
    " the finding probably will support those who argue that the U.S. should regulate the class of asbestos including <code>&lt;unk&gt;</code> more <code>&lt;unk&gt;</code> than the common kind of asbestos <code>&lt;unk&gt;</code> found in most schools and other buildings dr. <code>&lt;unk&gt;</code> said</center>\n",
    "</div>\n"
   ]
  },
  {
   "cell_type": "markdown",
   "metadata": {},
   "source": [
    "<a id=\"word_embedding\"></a>\n",
    "<h2>Word Embeddings</h2><br/>\n",
    "\n",
    "For better processing, in this example, we will make use of <a href=\"https://www.tensorflow.org/tutorials/word2vec/?utm_medium=Exinfluencer&utm_source=Exinfluencer&utm_content=000026UJ&utm_term=10006555&utm_id=NA-SkillsNetwork-Channel-SkillsNetworkCoursesIBMDeveloperSkillsNetworkDL0120ENSkillsNetwork954-2023-01-01\"><b>word embeddings</b></a>, which is <b>a way of representing sentence structures or words as n-dimensional vectors (where n is a reasonably high number, such as 200 or 500) of real numbers</b>. Basically, we will assign each word a randomly-initialized vector, and input those into the network to be processed. After a number of iterations, these vectors are expected to assume values that help the network to correctly predict what it needs to -- in our case, the probable next word in the sentence. This is shown to be a very effective task in Natural Language Processing, and is a commonplace practice.\n",
    "<br><br>\n",
    "<font size=\"4\"><strong>\n",
    "$$Vec(\"Example\") = [0.02, 0.00, 0.00, 0.92, 0.30, \\ldots]$$\n",
    "</strong></font>\n",
    "<br>\n",
    "Word Embedding tends to group up similarly used words <i>reasonably</i> close together in the vectorial space. For example, if we use T-SNE (a dimensional reduction visualization algorithm) to flatten the dimensions of our vectors into a 2-dimensional space and plot these words in a 2-dimensional space, we might see something like this:\n",
    "\n",
    "<img src=\"https://ibm.box.com/shared/static/bqhc5dg879gcoabzhxra1w8rkg3od1cu.png\" width=\"800\">\n",
    "<center><i>T-SNE Mockup with clusters marked for easier visualization</i></center>\n",
    "<br><br>\n",
    "As you can see, words that are frequently used together, in place of each other, or in the same places as them tend to be grouped together -- being closer together the higher they are correlated. For example, \"None\" is pretty semantically close to \"Zero\", while a phrase that uses \"Italy\", you could probably also fit \"Germany\" in it, with little damage to the sentence structure. The vectorial \"closeness\" for similar words like this is a great indicator of a well-built model.\n",
    "\n",
    "<hr>\n",
    " \n"
   ]
  },
  {
   "cell_type": "markdown",
   "metadata": {},
   "source": [
    "We need to import the necessary modules for our code. We need <b><code>numpy</code></b> and <b><code>tensorflow</code></b>, obviously. Additionally, we can import directly the <b><code>tensorflow.models.rnn</code></b> model, which includes the function for building RNNs, and <b><code>tensorflow.models.rnn.ptb.reader</code></b> which is the helper module for getting the input data from the dataset we just downloaded.\n",
    "\n",
    "If you want to learn more take a look at https://github.com/tensorflow/models/blob/master/tutorials/rnn/ptb/reader.py\n"
   ]
  },
  {
   "cell_type": "code",
   "execution_count": 1,
   "metadata": {
    "tags": []
   },
   "outputs": [
    {
     "name": "stdout",
     "output_type": "stream",
     "text": [
      "Requirement already satisfied: tensorflow==2.9.0 in /home/jupyterlab/conda/envs/python/lib/python3.7/site-packages (2.9.0)\n",
      "Requirement already satisfied: absl-py>=1.0.0 in /home/jupyterlab/conda/envs/python/lib/python3.7/site-packages (from tensorflow==2.9.0) (1.4.0)\n",
      "Requirement already satisfied: astunparse>=1.6.0 in /home/jupyterlab/conda/envs/python/lib/python3.7/site-packages (from tensorflow==2.9.0) (1.6.3)\n",
      "Requirement already satisfied: flatbuffers<2,>=1.12 in /home/jupyterlab/conda/envs/python/lib/python3.7/site-packages (from tensorflow==2.9.0) (1.12)\n",
      "Requirement already satisfied: gast<=0.4.0,>=0.2.1 in /home/jupyterlab/conda/envs/python/lib/python3.7/site-packages (from tensorflow==2.9.0) (0.4.0)\n",
      "Requirement already satisfied: google-pasta>=0.1.1 in /home/jupyterlab/conda/envs/python/lib/python3.7/site-packages (from tensorflow==2.9.0) (0.2.0)\n",
      "Requirement already satisfied: grpcio<2.0,>=1.24.3 in /home/jupyterlab/conda/envs/python/lib/python3.7/site-packages (from tensorflow==2.9.0) (1.48.1)\n",
      "Requirement already satisfied: h5py>=2.9.0 in /home/jupyterlab/conda/envs/python/lib/python3.7/site-packages (from tensorflow==2.9.0) (3.8.0)\n",
      "Requirement already satisfied: keras<2.10.0,>=2.9.0rc0 in /home/jupyterlab/conda/envs/python/lib/python3.7/site-packages (from tensorflow==2.9.0) (2.9.0)\n",
      "Requirement already satisfied: keras-preprocessing>=1.1.1 in /home/jupyterlab/conda/envs/python/lib/python3.7/site-packages (from tensorflow==2.9.0) (1.1.2)\n",
      "Requirement already satisfied: libclang>=13.0.0 in /home/jupyterlab/conda/envs/python/lib/python3.7/site-packages (from tensorflow==2.9.0) (16.0.6)\n",
      "Requirement already satisfied: numpy>=1.20 in /home/jupyterlab/conda/envs/python/lib/python3.7/site-packages (from tensorflow==2.9.0) (1.21.4)\n",
      "Requirement already satisfied: opt-einsum>=2.3.2 in /home/jupyterlab/conda/envs/python/lib/python3.7/site-packages (from tensorflow==2.9.0) (3.3.0)\n",
      "Requirement already satisfied: packaging in /home/jupyterlab/conda/envs/python/lib/python3.7/site-packages (from tensorflow==2.9.0) (23.1)\n",
      "Requirement already satisfied: protobuf>=3.9.2 in /home/jupyterlab/conda/envs/python/lib/python3.7/site-packages (from tensorflow==2.9.0) (3.19.6)\n",
      "Requirement already satisfied: setuptools in /home/jupyterlab/conda/envs/python/lib/python3.7/site-packages (from tensorflow==2.9.0) (67.7.2)\n",
      "Requirement already satisfied: six>=1.12.0 in /home/jupyterlab/conda/envs/python/lib/python3.7/site-packages (from tensorflow==2.9.0) (1.16.0)\n",
      "Requirement already satisfied: tensorboard<2.10,>=2.9 in /home/jupyterlab/conda/envs/python/lib/python3.7/site-packages (from tensorflow==2.9.0) (2.9.1)\n",
      "Requirement already satisfied: tensorflow-io-gcs-filesystem>=0.23.1 in /home/jupyterlab/conda/envs/python/lib/python3.7/site-packages (from tensorflow==2.9.0) (0.34.0)\n",
      "Requirement already satisfied: tensorflow-estimator<2.10.0,>=2.9.0rc0 in /home/jupyterlab/conda/envs/python/lib/python3.7/site-packages (from tensorflow==2.9.0) (2.9.0)\n",
      "Requirement already satisfied: termcolor>=1.1.0 in /home/jupyterlab/conda/envs/python/lib/python3.7/site-packages (from tensorflow==2.9.0) (2.3.0)\n",
      "Requirement already satisfied: typing-extensions>=3.6.6 in /home/jupyterlab/conda/envs/python/lib/python3.7/site-packages (from tensorflow==2.9.0) (4.5.0)\n",
      "Requirement already satisfied: wrapt>=1.11.0 in /home/jupyterlab/conda/envs/python/lib/python3.7/site-packages (from tensorflow==2.9.0) (1.14.1)\n",
      "Requirement already satisfied: wheel<1.0,>=0.23.0 in /home/jupyterlab/conda/envs/python/lib/python3.7/site-packages (from astunparse>=1.6.0->tensorflow==2.9.0) (0.40.0)\n",
      "Requirement already satisfied: google-auth<3,>=1.6.3 in /home/jupyterlab/conda/envs/python/lib/python3.7/site-packages (from tensorboard<2.10,>=2.9->tensorflow==2.9.0) (2.23.4)\n",
      "Requirement already satisfied: google-auth-oauthlib<0.5,>=0.4.1 in /home/jupyterlab/conda/envs/python/lib/python3.7/site-packages (from tensorboard<2.10,>=2.9->tensorflow==2.9.0) (0.4.6)\n",
      "Requirement already satisfied: markdown>=2.6.8 in /home/jupyterlab/conda/envs/python/lib/python3.7/site-packages (from tensorboard<2.10,>=2.9->tensorflow==2.9.0) (3.4.3)\n",
      "Requirement already satisfied: requests<3,>=2.21.0 in /home/jupyterlab/conda/envs/python/lib/python3.7/site-packages (from tensorboard<2.10,>=2.9->tensorflow==2.9.0) (2.29.0)\n",
      "Requirement already satisfied: tensorboard-data-server<0.7.0,>=0.6.0 in /home/jupyterlab/conda/envs/python/lib/python3.7/site-packages (from tensorboard<2.10,>=2.9->tensorflow==2.9.0) (0.6.1)\n",
      "Requirement already satisfied: tensorboard-plugin-wit>=1.6.0 in /home/jupyterlab/conda/envs/python/lib/python3.7/site-packages (from tensorboard<2.10,>=2.9->tensorflow==2.9.0) (1.8.1)\n",
      "Requirement already satisfied: werkzeug>=1.0.1 in /home/jupyterlab/conda/envs/python/lib/python3.7/site-packages (from tensorboard<2.10,>=2.9->tensorflow==2.9.0) (2.2.3)\n",
      "Requirement already satisfied: cachetools<6.0,>=2.0.0 in /home/jupyterlab/conda/envs/python/lib/python3.7/site-packages (from google-auth<3,>=1.6.3->tensorboard<2.10,>=2.9->tensorflow==2.9.0) (5.3.2)\n",
      "Requirement already satisfied: pyasn1-modules>=0.2.1 in /home/jupyterlab/conda/envs/python/lib/python3.7/site-packages (from google-auth<3,>=1.6.3->tensorboard<2.10,>=2.9->tensorflow==2.9.0) (0.3.0)\n",
      "Requirement already satisfied: rsa<5,>=3.1.4 in /home/jupyterlab/conda/envs/python/lib/python3.7/site-packages (from google-auth<3,>=1.6.3->tensorboard<2.10,>=2.9->tensorflow==2.9.0) (4.9)\n",
      "Requirement already satisfied: requests-oauthlib>=0.7.0 in /home/jupyterlab/conda/envs/python/lib/python3.7/site-packages (from google-auth-oauthlib<0.5,>=0.4.1->tensorboard<2.10,>=2.9->tensorflow==2.9.0) (1.3.1)\n",
      "Requirement already satisfied: importlib-metadata>=4.4 in /home/jupyterlab/conda/envs/python/lib/python3.7/site-packages (from markdown>=2.6.8->tensorboard<2.10,>=2.9->tensorflow==2.9.0) (4.11.4)\n",
      "Requirement already satisfied: charset-normalizer<4,>=2 in /home/jupyterlab/conda/envs/python/lib/python3.7/site-packages (from requests<3,>=2.21.0->tensorboard<2.10,>=2.9->tensorflow==2.9.0) (3.1.0)\n",
      "Requirement already satisfied: idna<4,>=2.5 in /home/jupyterlab/conda/envs/python/lib/python3.7/site-packages (from requests<3,>=2.21.0->tensorboard<2.10,>=2.9->tensorflow==2.9.0) (3.4)\n",
      "Requirement already satisfied: urllib3<1.27,>=1.21.1 in /home/jupyterlab/conda/envs/python/lib/python3.7/site-packages (from requests<3,>=2.21.0->tensorboard<2.10,>=2.9->tensorflow==2.9.0) (1.26.15)\n",
      "Requirement already satisfied: certifi>=2017.4.17 in /home/jupyterlab/conda/envs/python/lib/python3.7/site-packages (from requests<3,>=2.21.0->tensorboard<2.10,>=2.9->tensorflow==2.9.0) (2023.5.7)\n",
      "Requirement already satisfied: MarkupSafe>=2.1.1 in /home/jupyterlab/conda/envs/python/lib/python3.7/site-packages (from werkzeug>=1.0.1->tensorboard<2.10,>=2.9->tensorflow==2.9.0) (2.1.1)\n",
      "Requirement already satisfied: zipp>=0.5 in /home/jupyterlab/conda/envs/python/lib/python3.7/site-packages (from importlib-metadata>=4.4->markdown>=2.6.8->tensorboard<2.10,>=2.9->tensorflow==2.9.0) (3.15.0)\n",
      "Requirement already satisfied: pyasn1<0.6.0,>=0.4.6 in /home/jupyterlab/conda/envs/python/lib/python3.7/site-packages (from pyasn1-modules>=0.2.1->google-auth<3,>=1.6.3->tensorboard<2.10,>=2.9->tensorflow==2.9.0) (0.5.0)\n",
      "Requirement already satisfied: oauthlib>=3.0.0 in /home/jupyterlab/conda/envs/python/lib/python3.7/site-packages (from requests-oauthlib>=0.7.0->google-auth-oauthlib<0.5,>=0.4.1->tensorboard<2.10,>=2.9->tensorflow==2.9.0) (3.2.2)\n",
      "Requirement already satisfied: numpy==1.21.4 in /home/jupyterlab/conda/envs/python/lib/python3.7/site-packages (1.21.4)\n"
     ]
    }
   ],
   "source": [
    "!pip install tensorflow==2.9.0\n",
    "!pip install numpy==1.21.4\n"
   ]
  },
  {
   "cell_type": "code",
   "execution_count": 2,
   "metadata": {
    "tags": []
   },
   "outputs": [
    {
     "name": "stderr",
     "output_type": "stream",
     "text": [
      "2023-11-04 15:30:04.595733: I tensorflow/core/util/util.cc:169] oneDNN custom operations are on. You may see slightly different numerical results due to floating-point round-off errors from different computation orders. To turn them off, set the environment variable `TF_ENABLE_ONEDNN_OPTS=0`.\n",
      "2023-11-04 15:30:04.602312: W tensorflow/stream_executor/platform/default/dso_loader.cc:64] Could not load dynamic library 'libcudart.so.11.0'; dlerror: libcudart.so.11.0: cannot open shared object file: No such file or directory\n",
      "2023-11-04 15:30:04.602346: I tensorflow/stream_executor/cuda/cudart_stub.cc:29] Ignore above cudart dlerror if you do not have a GPU set up on your machine.\n"
     ]
    }
   ],
   "source": [
    "import time\n",
    "import numpy as np\n",
    "TF_ENABLE_ONEDNN_OPTS=0\n",
    "import tensorflow as tf\n",
    "if not tf.__version__ == '2.9.0':\n",
    "    print(tf.__version__)\n",
    "    raise ValueError('please upgrade to TensorFlow 2.9.0, or restart your Kernel (Kernel->Restart & Clear Output)')"
   ]
  },
  {
   "cell_type": "markdown",
   "metadata": {},
   "source": [
    "IMPORTANT! => Please restart the kernel by clicking on \"Kernel\"->\"Restart and Clear Outout\" and wait until all output disapears. Then your changes are beeing picked up\n"
   ]
  },
  {
   "cell_type": "code",
   "execution_count": 3,
   "metadata": {
    "tags": []
   },
   "outputs": [
    {
     "name": "stdout",
     "output_type": "stream",
     "text": [
      "mkdir: cannot create directory ‘data’: File exists\n",
      "mkdir: cannot create directory ‘data/ptb’: File exists\n"
     ]
    }
   ],
   "source": [
    "!mkdir data\n",
    "!mkdir data/ptb\n",
    "!wget -q -O data/ptb/reader.py https://cf-courses-data.s3.us.cloud-object-storage.appdomain.cloud/IBMDeveloperSkillsNetwork-DL0120EN-SkillsNetwork/labs/Week3/data/ptb/reader.py\n",
    "!cp data/ptb/reader.py .\n",
    "\n"
   ]
  },
  {
   "cell_type": "code",
   "execution_count": 4,
   "metadata": {
    "tags": []
   },
   "outputs": [],
   "source": [
    "# Copyright 2015 The TensorFlow Authors. All Rights Reserved.\n",
    "#\n",
    "# Licensed under the Apache License, Version 2.0 (the \"License\");\n",
    "# you may not use this file except in compliance with the License.\n",
    "# You may obtain a copy of the License at\n",
    "#\n",
    "#     http://www.apache.org/licenses/LICENSE-2.0\n",
    "#\n",
    "# Unless required by applicable law or agreed to in writing, software\n",
    "# distributed under the License is distributed on an \"AS IS\" BASIS,\n",
    "# WITHOUT WARRANTIES OR CONDITIONS OF ANY KIND, either express or implied.\n",
    "# See the License for the specific language governing permissions and\n",
    "# limitations under the License.\n",
    "# ==============================================================================\n",
    "\n",
    "\n",
    "\"\"\"Utilities for parsing PTB text files.\"\"\"\n",
    "from __future__ import absolute_import\n",
    "from __future__ import division\n",
    "from __future__ import print_function\n",
    "\n",
    "import collections\n",
    "import os\n",
    "\n",
    "import numpy as np\n",
    "import tensorflow as tf\n",
    "\n",
    "\n",
    "def _read_words(filename):\n",
    "  with tf.io.gfile.GFile(filename, \"r\") as f:\n",
    "    return f.read().replace(\"\\n\", \"<eos>\").split()\n",
    "\n",
    "\n",
    "def _build_vocab(filename):\n",
    "  data = _read_words(filename)\n",
    "\n",
    "  counter = collections.Counter(data)\n",
    "  count_pairs = sorted(counter.items(), key=lambda x: (-x[1], x[0]))\n",
    "\n",
    "  words, _ = list(zip(*count_pairs))\n",
    "  word_to_id = dict(zip(words, range(len(words))))\n",
    "\n",
    "  return word_to_id\n",
    "\n",
    "\n",
    "def _file_to_word_ids(filename, word_to_id):\n",
    "  data = _read_words(filename)\n",
    "  return [word_to_id[word] for word in data if word in word_to_id]\n",
    "\n",
    "\n",
    "def ptb_raw_data(data_path=None):\n",
    "  \"\"\"Load PTB raw data from data directory \"data_path\".\n",
    "\n",
    "  Reads PTB text files, converts strings to integer ids,\n",
    "  and performs mini-batching of the inputs.\n",
    "\n",
    "  The PTB dataset comes from Tomas Mikolov's webpage:\n",
    "\n",
    "  http://www.fit.vutbr.cz/~imikolov/rnnlm/simple-examples.tgz\n",
    "\n",
    "  Args:\n",
    "    data_path: string path to the directory where simple-examples.tgz has\n",
    "      been extracted.\n",
    "\n",
    "  Returns:\n",
    "    tuple (train_data, valid_data, test_data, vocabulary)\n",
    "    where each of the data objects can be passed to PTBIterator.\n",
    "  \"\"\"\n",
    "\n",
    "  train_path = os.path.join(data_path, \"ptb.train.txt\")\n",
    "  valid_path = os.path.join(data_path, \"ptb.valid.txt\")\n",
    "  test_path = os.path.join(data_path, \"ptb.test.txt\")\n",
    "\n",
    "  word_to_id = _build_vocab(train_path)\n",
    "  train_data = _file_to_word_ids(train_path, word_to_id)\n",
    "  valid_data = _file_to_word_ids(valid_path, word_to_id)\n",
    "  test_data = _file_to_word_ids(test_path, word_to_id)\n",
    "  vocabulary = len(word_to_id)\n",
    "  return train_data, valid_data, test_data, vocabulary, word_to_id\n",
    "\n",
    "\n",
    "def ptb_iterator(raw_data, batch_size, num_steps):\n",
    "  \"\"\"Iterate on the raw PTB data.\n",
    "\n",
    "  This generates batch_size pointers into the raw PTB data, and allows\n",
    "  minibatch iteration along these pointers.\n",
    "\n",
    "  Args:\n",
    "    raw_data: one of the raw data outputs from ptb_raw_data.\n",
    "    batch_size: int, the batch size.\n",
    "    num_steps: int, the number of unrolls.\n",
    "\n",
    "  Yields:\n",
    "    Pairs of the batched data, each a matrix of shape [batch_size, num_steps].\n",
    "    The second element of the tuple is the same data time-shifted to the\n",
    "    right by one.\n",
    "\n",
    "  Raises:\n",
    "    ValueError: if batch_size or num_steps are too high.\n",
    "  \"\"\"\n",
    "  raw_data = np.array(raw_data, dtype=np.int32)\n",
    "\n",
    "  data_len = len(raw_data)\n",
    "  batch_len = data_len // batch_size\n",
    "  data = np.zeros([batch_size, batch_len], dtype=np.int32)\n",
    "  for i in range(batch_size):\n",
    "    data[i] = raw_data[batch_len * i:batch_len * (i + 1)]\n",
    "\n",
    "  epoch_size = (batch_len - 1) // num_steps\n",
    "\n",
    "  if epoch_size == 0:\n",
    "    raise ValueError(\"epoch_size == 0, decrease batch_size or num_steps\")\n",
    "\n",
    "  for i in range(epoch_size):\n",
    "    x = data[:, i*num_steps:(i+1)*num_steps]\n",
    "    y = data[:, i*num_steps+1:(i+1)*num_steps+1]\n",
    "    yield (x, y)"
   ]
  },
  {
   "cell_type": "markdown",
   "metadata": {},
   "source": [
    "<a id=\"building_lstm_model\"></a>\n",
    "<h2>Building the LSTM model for Language Modeling</h2>\n",
    "Now that we know exactly what we are doing, we can start building our model using TensorFlow. The very first thing we need to do is download and extract the <code>simple-examples</code> dataset, which can be done by executing the code cell below.\n"
   ]
  },
  {
   "cell_type": "code",
   "execution_count": 5,
   "metadata": {
    "tags": []
   },
   "outputs": [
    {
     "name": "stdout",
     "output_type": "stream",
     "text": [
      "--2023-11-04 15:30:10--  http://www.fit.vutbr.cz/~imikolov/rnnlm/simple-examples.tgz\n",
      "Resolving www.fit.vutbr.cz (www.fit.vutbr.cz)... 147.229.9.23, 2001:67c:1220:809::93e5:917\n",
      "Connecting to www.fit.vutbr.cz (www.fit.vutbr.cz)|147.229.9.23|:80... connected.\n",
      "HTTP request sent, awaiting response... 200 OK\n",
      "Length: 34869662 (33M) [application/x-gtar]\n",
      "Saving to: ‘simple-examples.tgz.1’\n",
      "\n",
      "simple-examples.tgz 100%[===================>]  33.25M  8.11MB/s    in 4.3s    \n",
      "\n",
      "2023-11-04 15:30:16 (7.74 MB/s) - ‘simple-examples.tgz.1’ saved [34869662/34869662]\n",
      "\n"
     ]
    }
   ],
   "source": [
    "!wget http://www.fit.vutbr.cz/~imikolov/rnnlm/simple-examples.tgz \n",
    "!tar xzf simple-examples.tgz -C data/"
   ]
  },
  {
   "cell_type": "markdown",
   "metadata": {},
   "source": [
    "Additionally, for the sake of making it easy to play around with the model's hyperparameters, we can declare them beforehand. Feel free to change these -- you will see a difference in performance each time you change those!  \n"
   ]
  },
  {
   "cell_type": "code",
   "execution_count": 6,
   "metadata": {
    "tags": []
   },
   "outputs": [],
   "source": [
    "#Initial weight scale\n",
    "init_scale = 0.1\n",
    "#Initial learning rate\n",
    "learning_rate = 1.0\n",
    "#Maximum permissible norm for the gradient (For gradient clipping -- another measure against Exploding Gradients)\n",
    "max_grad_norm = 5\n",
    "#The number of layers in our model\n",
    "num_layers = 2\n",
    "#The total number of recurrence steps, also known as the number of layers when our RNN is \"unfolded\"\n",
    "num_steps = 20\n",
    "#The number of processing units (neurons) in the hidden layers\n",
    "hidden_size_l1 = 256\n",
    "hidden_size_l2 = 128\n",
    "#The maximum number of epochs trained with the initial learning rate\n",
    "max_epoch_decay_lr = 4\n",
    "#The total number of epochs in training\n",
    "max_epoch = 15\n",
    "#The probability for keeping data in the Dropout Layer (This is an optimization, but is outside our scope for this notebook!)\n",
    "#At 1, we ignore the Dropout Layer wrapping.\n",
    "keep_prob = 1\n",
    "#The decay for the learning rate\n",
    "decay = 0.5\n",
    "#The size for each batch of data\n",
    "batch_size = 30\n",
    "#The size of our vocabulary\n",
    "vocab_size = 10000\n",
    "embeding_vector_size= 200\n",
    "#Training flag to separate training from testing\n",
    "is_training = 1\n",
    "#Data directory for our dataset\n",
    "data_dir = \"data/simple-examples/data/\""
   ]
  },
  {
   "cell_type": "markdown",
   "metadata": {},
   "source": [
    "Some clarifications for LSTM architecture based on the arguments:\n",
    "\n",
    "Network structure:\n",
    "<ul>\n",
    "    <li>In this network, the number of LSTM cells are 2. To give the model more expressive power, we can add multiple layers of LSTMs to process the data. The output of the first layer will become the input of the second and so on.\n",
    "    </li>\n",
    "    <li>The recurrence steps is 20, that is, when our RNN is \"Unfolded\", the recurrence step is 20.</li>   \n",
    "    <li>the structure is like:\n",
    "        <ul>\n",
    "            <li>200 input units -> [200x200] Weight -> 200 Hidden units (first layer) -> [200x200] Weight matrix  -> 200 Hidden units (second layer) ->  [200] weight Matrix -> 200 unit output</li>\n",
    "        </ul>\n",
    "    </li>\n",
    "</ul>\n",
    "<br>\n",
    "\n",
    "Input layer: \n",
    "<ul>\n",
    "    <li>The network has 200 input units.</li>\n",
    "    <li>Suppose each word is represented by an embedding vector of dimensionality e=200. The input layer of each cell will have 200 linear units. These e=200 linear units are connected to each of the h=200 LSTM units in the hidden layer (assuming there is only one hidden layer, though our case has 2 layers).\n",
    "    </li>\n",
    "    <li>The input shape is [batch_size, num_steps], that is [30x20]. It will turn into [30x20x200] after embedding, and then 20x[30x200]\n",
    "    </li>\n",
    "</ul>\n",
    "<br>\n",
    "\n",
    "Hidden layer:\n",
    "<ul>\n",
    "    <li>Each LSTM has 200 hidden units which is equivalent to the dimensionality of the embedding words and output.</li>\n",
    "</ul>\n",
    "<br>\n"
   ]
  },
  {
   "cell_type": "markdown",
   "metadata": {},
   "source": [
    "There is a lot to be done and a ton of information to process at the same time, so go over this code slowly. It may seem complex at first, but if you try to apply what you just learned about language modelling to the code you see, you should be able to understand it.\n",
    "\n",
    "This code is adapted from the <a href=\"https://github.com/tensorflow/models\">PTBModel</a> example bundled with the TensorFlow source code.\n",
    "\n",
    "\n",
    "<h3>Training data</h3>\n",
    "The story starts from data:\n",
    "<ul>\n",
    "    <li>Train data is a list of words, of size 929589, represented by numbers, e.g. [9971, 9972, 9974, 9975,...]</li>\n",
    "    <li>We read data as mini-batch of size b=30. Assume the size of each sentence is 20 words (num_steps = 20). Then it will take $$floor(\\frac{N}{b \\times h})+1=1548$$ iterations for the learner to go through all sentences once. Where N is the size of the list of words, b is batch size, and h is size of each sentence. So, the number of iterators is 1548\n",
    "    </li>\n",
    "    <li>Each batch data is read from train dataset of size 600, and shape of [30x20]</li>\n",
    "</ul>\n"
   ]
  },
  {
   "cell_type": "code",
   "execution_count": 7,
   "metadata": {
    "tags": []
   },
   "outputs": [],
   "source": [
    "# Reads the data and separates it into training data, validation data and testing data\n",
    "raw_data = ptb_raw_data(data_dir)\n",
    "train_data, valid_data, test_data, vocab, word_to_id = raw_data"
   ]
  },
  {
   "cell_type": "code",
   "execution_count": 8,
   "metadata": {
    "tags": []
   },
   "outputs": [
    {
     "data": {
      "text/plain": [
       "929589"
      ]
     },
     "execution_count": 8,
     "metadata": {},
     "output_type": "execute_result"
    }
   ],
   "source": [
    "len(train_data)"
   ]
  },
  {
   "cell_type": "code",
   "execution_count": 9,
   "metadata": {
    "tags": []
   },
   "outputs": [
    {
     "name": "stdout",
     "output_type": "stream",
     "text": [
      "['aer', 'banknote', 'berlitz', 'calloway', 'centrust', 'cluett', 'fromstein', 'gitano', 'guterman', 'hydro-quebec', 'ipo', 'kia', 'memotec', 'mlx', 'nahb', 'punts', 'rake', 'regatta', 'rubens', 'sim', 'snack-food', 'ssangyong', 'swapo', 'wachter', '<eos>', 'pierre', '<unk>', 'N', 'years', 'old', 'will', 'join', 'the', 'board', 'as', 'a', 'nonexecutive', 'director', 'nov.', 'N', '<eos>', 'mr.', '<unk>', 'is', 'chairman', 'of', '<unk>', 'n.v.', 'the', 'dutch', 'publishing', 'group', '<eos>', 'rudolph', '<unk>', 'N', 'years', 'old', 'and', 'former', 'chairman', 'of', 'consolidated', 'gold', 'fields', 'plc', 'was', 'named', 'a', 'nonexecutive', 'director', 'of', 'this', 'british', 'industrial', 'conglomerate', '<eos>', 'a', 'form', 'of', 'asbestos', 'once', 'used', 'to', 'make', 'kent', 'cigarette', 'filters', 'has', 'caused', 'a', 'high', 'percentage', 'of', 'cancer', 'deaths', 'among', 'a', 'group', 'of']\n"
     ]
    }
   ],
   "source": [
    "def id_to_word(id_list):\n",
    "    line = []\n",
    "    for w in id_list:\n",
    "        for word, wid in word_to_id.items():\n",
    "            if wid == w:\n",
    "                line.append(word)\n",
    "    return line            \n",
    "                \n",
    "\n",
    "print(id_to_word(train_data[0:100]))"
   ]
  },
  {
   "cell_type": "markdown",
   "metadata": {},
   "source": [
    "Lets just read one mini-batch now and feed our network:\n"
   ]
  },
  {
   "cell_type": "code",
   "execution_count": 10,
   "metadata": {
    "tags": []
   },
   "outputs": [],
   "source": [
    "itera = ptb_iterator(train_data, batch_size, num_steps)\n",
    "first_touple = itera.__next__()\n",
    "_input_data = first_touple[0]\n",
    "_targets = first_touple[1]"
   ]
  },
  {
   "cell_type": "code",
   "execution_count": 11,
   "metadata": {
    "tags": []
   },
   "outputs": [
    {
     "data": {
      "text/plain": [
       "(30, 20)"
      ]
     },
     "execution_count": 11,
     "metadata": {},
     "output_type": "execute_result"
    }
   ],
   "source": [
    "_input_data.shape"
   ]
  },
  {
   "cell_type": "code",
   "execution_count": 12,
   "metadata": {
    "tags": []
   },
   "outputs": [
    {
     "data": {
      "text/plain": [
       "(30, 20)"
      ]
     },
     "execution_count": 12,
     "metadata": {},
     "output_type": "execute_result"
    }
   ],
   "source": [
    "_targets.shape"
   ]
  },
  {
   "cell_type": "markdown",
   "metadata": {},
   "source": [
    "Lets look at 3 sentences of our input x:\n"
   ]
  },
  {
   "cell_type": "code",
   "execution_count": 13,
   "metadata": {
    "tags": []
   },
   "outputs": [
    {
     "data": {
      "text/plain": [
       "array([[9970, 9971, 9972, 9974, 9975, 9976, 9980, 9981, 9982, 9983, 9984,\n",
       "        9986, 9987, 9988, 9989, 9991, 9992, 9993, 9994, 9995],\n",
       "       [2654,    6,  334, 2886,    4,    1,  233,  711,  834,   11,  130,\n",
       "         123,    7,  514,    2,   63,   10,  514,    8,  605],\n",
       "       [   0, 1071,    4,    0,  185,   24,  368,   20,   31, 3109,  954,\n",
       "          12,    3,   21,    2, 2915,    2,   12,    3,   21]],\n",
       "      dtype=int32)"
      ]
     },
     "execution_count": 13,
     "metadata": {},
     "output_type": "execute_result"
    }
   ],
   "source": [
    "_input_data[0:3]"
   ]
  },
  {
   "cell_type": "code",
   "execution_count": 14,
   "metadata": {
    "tags": []
   },
   "outputs": [
    {
     "name": "stdout",
     "output_type": "stream",
     "text": [
      "['aer', 'banknote', 'berlitz', 'calloway', 'centrust', 'cluett', 'fromstein', 'gitano', 'guterman', 'hydro-quebec', 'ipo', 'kia', 'memotec', 'mlx', 'nahb', 'punts', 'rake', 'regatta', 'rubens', 'sim']\n"
     ]
    }
   ],
   "source": [
    "print(id_to_word(_input_data[0,:]))"
   ]
  },
  {
   "cell_type": "markdown",
   "metadata": {},
   "source": [
    "<h3>Embeddings</h3>\n",
    "We have to convert the words in our dataset to vectors of numbers. The traditional approach is to use one-hot encoding method that is usually used for converting categorical values to numerical values. However, One-hot encoded vectors are high-dimensional, sparse and in a big dataset, computationally inefficient. So, we use word2vec approach. It is, in fact, a layer in our LSTM network, where the word IDs will be represented as a dense representation before feeding to the LSTM. \n",
    "\n",
    "The embedded vectors also get updated during the training process of the deep neural network.\n",
    "We create the embeddings for our input data. <b>embedding_vocab</b> is matrix of [10000x200] for all 10000 unique words.\n"
   ]
  },
  {
   "cell_type": "markdown",
   "metadata": {},
   "source": [
    "<b>embedding_lookup()</b> finds the embedded values for our batch of 30x20 words. It  goes to each row of <code>input_data</code>, and for each word in the row/sentence, finds the correspond vector in <code>embedding_dic<code>. <br>\n",
    "It creates a [30x20x200] tensor, so, the first element of <b>inputs</b> (the first sentence), is a matrix of 20x200, which each row of it, is vector representing a word in the sentence.\n"
   ]
  },
  {
   "cell_type": "code",
   "execution_count": 15,
   "metadata": {
    "tags": []
   },
   "outputs": [],
   "source": [
    "embedding_layer = tf.keras.layers.Embedding(vocab_size, embeding_vector_size,batch_input_shape=(batch_size, num_steps),trainable=True,name=\"embedding_vocab\")  "
   ]
  },
  {
   "cell_type": "code",
   "execution_count": 16,
   "metadata": {
    "tags": []
   },
   "outputs": [
    {
     "name": "stderr",
     "output_type": "stream",
     "text": [
      "2023-11-04 15:30:28.857317: W tensorflow/stream_executor/platform/default/dso_loader.cc:64] Could not load dynamic library 'libcuda.so.1'; dlerror: libcuda.so.1: cannot open shared object file: No such file or directory\n",
      "2023-11-04 15:30:28.857384: W tensorflow/stream_executor/cuda/cuda_driver.cc:269] failed call to cuInit: UNKNOWN ERROR (303)\n",
      "2023-11-04 15:30:28.857433: I tensorflow/stream_executor/cuda/cuda_diagnostics.cc:156] kernel driver does not appear to be running on this host (jupyterlab-yashmenaria2): /proc/driver/nvidia/version does not exist\n",
      "2023-11-04 15:30:28.858217: I tensorflow/core/platform/cpu_feature_guard.cc:193] This TensorFlow binary is optimized with oneAPI Deep Neural Network Library (oneDNN) to use the following CPU instructions in performance-critical operations:  AVX2 AVX512F AVX512_VNNI FMA\n",
      "To enable them in other operations, rebuild TensorFlow with the appropriate compiler flags.\n"
     ]
    },
    {
     "data": {
      "text/plain": [
       "<tf.Tensor: shape=(30, 20, 200), dtype=float32, numpy=\n",
       "array([[[-3.14800628e-02, -4.54725027e-02, -2.07935106e-02, ...,\n",
       "          4.68621515e-02, -8.98923725e-03, -1.41354427e-02],\n",
       "        [-3.86164561e-02, -2.70999428e-02,  3.69876511e-02, ...,\n",
       "         -4.99796756e-02,  1.42643489e-02,  2.14712732e-02],\n",
       "        [-4.73961234e-02, -3.81950140e-02, -3.99727598e-02, ...,\n",
       "          4.40347940e-04, -3.90378721e-02, -4.69352007e-02],\n",
       "        ...,\n",
       "        [-1.21547095e-02, -1.82348266e-02, -4.99616377e-02, ...,\n",
       "          4.96048369e-02,  4.03455980e-02, -1.97357181e-02],\n",
       "        [-2.86947936e-04, -8.30627978e-04, -3.17319408e-02, ...,\n",
       "          3.73308733e-03, -2.34914664e-02,  4.76692803e-02],\n",
       "        [-3.13811451e-02,  3.98391522e-02, -1.53204314e-02, ...,\n",
       "         -2.63405796e-02,  1.70122050e-02,  3.79609801e-02]],\n",
       "\n",
       "       [[-2.28326805e-02, -1.96371078e-02, -9.55593586e-03, ...,\n",
       "         -3.70338559e-02, -1.71912797e-02,  5.88521361e-05],\n",
       "        [-4.44857143e-02, -2.38053557e-02, -2.15508938e-02, ...,\n",
       "          1.69577114e-02,  3.46789472e-02,  3.22685577e-02],\n",
       "        [-2.31399890e-02,  1.43498518e-02,  7.37395138e-03, ...,\n",
       "         -3.96012291e-02,  3.87120359e-02,  2.72408761e-02],\n",
       "        ...,\n",
       "        [ 3.48252170e-02,  3.10001262e-02, -7.61561468e-03, ...,\n",
       "         -4.89697345e-02,  2.86562704e-02,  2.42252275e-03],\n",
       "        [-8.64735991e-03,  3.42610218e-02, -4.86926436e-02, ...,\n",
       "          3.37569378e-02,  4.90695722e-02, -1.04389787e-02],\n",
       "        [-3.87743711e-02, -3.59059684e-02, -8.54671001e-03, ...,\n",
       "          3.77973951e-02,  1.56210326e-02, -9.17540863e-03]],\n",
       "\n",
       "       [[ 3.78363170e-02, -3.63569036e-02,  3.98155339e-02, ...,\n",
       "          3.52503173e-02,  4.24573459e-02,  1.11564621e-02],\n",
       "        [-4.82630022e-02,  3.98090743e-02,  1.43037699e-02, ...,\n",
       "         -5.20501286e-03,  3.96351106e-02, -2.85532121e-02],\n",
       "        [ 4.41686250e-02, -1.73152909e-02, -4.76575494e-02, ...,\n",
       "          1.74146555e-02,  2.31611729e-03,  3.21983956e-02],\n",
       "        ...,\n",
       "        [-4.30662520e-02, -1.02139115e-02, -1.03603117e-02, ...,\n",
       "          3.07849385e-02,  3.73980887e-02, -2.83612851e-02],\n",
       "        [ 1.28066055e-02,  8.54993984e-03, -1.84738748e-02, ...,\n",
       "         -1.71023607e-03,  4.75018062e-02, -3.09306625e-02],\n",
       "        [ 4.56588604e-02,  2.21630000e-02, -3.29316743e-02, ...,\n",
       "          4.53998111e-02, -3.80618460e-02, -1.30686276e-02]],\n",
       "\n",
       "       ...,\n",
       "\n",
       "       [[ 9.26993787e-04, -2.73793936e-03, -3.41379046e-02, ...,\n",
       "          2.22774595e-03,  2.70656683e-02,  2.02769898e-02],\n",
       "        [-4.11039218e-02, -3.23832780e-02,  4.13726084e-02, ...,\n",
       "         -4.46140431e-02,  2.49691121e-02, -1.29137263e-02],\n",
       "        [ 4.28699590e-02, -1.50418505e-02,  2.12926604e-02, ...,\n",
       "          2.95789167e-03,  2.35318802e-02, -4.26452272e-02],\n",
       "        ...,\n",
       "        [-1.96660049e-02, -4.44953926e-02, -3.77234593e-02, ...,\n",
       "          1.35173313e-02,  3.69399525e-02,  4.71999161e-02],\n",
       "        [ 3.29620279e-02, -8.82904604e-03,  2.39613168e-02, ...,\n",
       "         -3.08204535e-02, -2.90936232e-03,  3.71232145e-02],\n",
       "        [-3.01674139e-02, -3.30850109e-02,  3.89792062e-02, ...,\n",
       "          3.81078608e-02,  1.55725367e-02, -3.39916348e-02]],\n",
       "\n",
       "       [[-1.03549585e-02,  2.82560699e-02,  4.10027429e-03, ...,\n",
       "          2.65361182e-02,  3.61092202e-02,  2.88150199e-02],\n",
       "        [ 1.06478818e-02,  1.54219903e-02,  2.06362642e-02, ...,\n",
       "         -7.40794092e-03, -6.24439865e-03, -1.90650951e-02],\n",
       "        [ 4.41686250e-02, -1.73152909e-02, -4.76575494e-02, ...,\n",
       "          1.74146555e-02,  2.31611729e-03,  3.21983956e-02],\n",
       "        ...,\n",
       "        [ 4.46358360e-02, -3.90522555e-03, -2.46137735e-02, ...,\n",
       "          3.76638807e-02, -3.52958553e-02, -3.68518829e-02],\n",
       "        [-4.44857143e-02, -2.38053557e-02, -2.15508938e-02, ...,\n",
       "          1.69577114e-02,  3.46789472e-02,  3.22685577e-02],\n",
       "        [ 2.03933232e-02, -4.94161248e-02,  3.27731296e-03, ...,\n",
       "         -4.54064272e-02,  4.09126393e-02, -3.55717912e-02]],\n",
       "\n",
       "       [[ 3.07917111e-02,  8.60967487e-03, -2.20929030e-02, ...,\n",
       "         -1.09070167e-02,  4.65107821e-02, -4.69422825e-02],\n",
       "        [ 2.87726857e-02,  1.16207451e-03,  2.77865864e-02, ...,\n",
       "         -8.02655146e-03, -3.52085121e-02,  3.15767042e-02],\n",
       "        [ 4.24376391e-02, -2.28165276e-02, -4.32220846e-03, ...,\n",
       "         -4.69732992e-02,  1.38677694e-02, -1.29979625e-02],\n",
       "        ...,\n",
       "        [ 1.19259842e-02,  4.25140373e-02, -1.09515302e-02, ...,\n",
       "          2.38021277e-02, -4.54474241e-04, -3.48342173e-02],\n",
       "        [ 3.20276953e-02, -4.04513702e-02, -7.68318027e-03, ...,\n",
       "         -4.94617224e-02,  2.71327756e-02, -3.37125883e-02],\n",
       "        [ 2.79174112e-02, -6.93837553e-03, -3.60295549e-02, ...,\n",
       "         -4.81932536e-02,  3.59614529e-02, -2.79178377e-02]]],\n",
       "      dtype=float32)>"
      ]
     },
     "execution_count": 16,
     "metadata": {},
     "output_type": "execute_result"
    }
   ],
   "source": [
    "# Define where to get the data for our embeddings from\n",
    "inputs = embedding_layer(_input_data)\n",
    "inputs"
   ]
  },
  {
   "cell_type": "markdown",
   "metadata": {},
   "source": [
    "<h3>Constructing Recurrent Neural Networks</h3>\n"
   ]
  },
  {
   "cell_type": "markdown",
   "metadata": {},
   "source": [
    "In this step, we create the stacked LSTM using <b>tf.keras.layers.StackedRNNCells</b>, which is a 2 layer LSTM network:\n"
   ]
  },
  {
   "cell_type": "code",
   "execution_count": 17,
   "metadata": {
    "tags": []
   },
   "outputs": [],
   "source": [
    "lstm_cell_l1 = tf.keras.layers.LSTMCell(hidden_size_l1)\n",
    "lstm_cell_l2 = tf.keras.layers.LSTMCell(hidden_size_l2)"
   ]
  },
  {
   "cell_type": "code",
   "execution_count": 18,
   "metadata": {},
   "outputs": [],
   "source": [
    "stacked_lstm = tf.keras.layers.StackedRNNCells([lstm_cell_l1, lstm_cell_l2])"
   ]
  },
  {
   "cell_type": "markdown",
   "metadata": {},
   "source": [
    "<b>tf.keras.layers.RNN</b> creates a recurrent neural network using <b>stacked_lstm</b>. \n",
    "\n",
    "The input should be a Tensor of shape: [batch_size, max_time, embedding_vector_size], in our case it would be (30, 20, 200)\n"
   ]
  },
  {
   "cell_type": "code",
   "execution_count": 19,
   "metadata": {},
   "outputs": [],
   "source": [
    "layer  =  tf.keras.layers.RNN(stacked_lstm,[batch_size, num_steps],return_state=False,stateful=True,trainable=True)"
   ]
  },
  {
   "cell_type": "markdown",
   "metadata": {},
   "source": [
    "Also, we initialize the states of the nework:\n",
    "\n",
    "<h4>_initial_state</h4>\n",
    "\n",
    "For each LSTM, there are 2 state matrices, c\\_state and m\\_state.  c_state and m_state represent \"Memory State\" and \"Cell State\". Each hidden layer, has a vector of size 30, which keeps the states. so, for 200 hidden units in each LSTM, we have a matrix of size [30x200]\n"
   ]
  },
  {
   "cell_type": "code",
   "execution_count": 20,
   "metadata": {},
   "outputs": [],
   "source": [
    "init_state = tf.Variable(tf.zeros([batch_size,embeding_vector_size]),trainable=False)"
   ]
  },
  {
   "cell_type": "code",
   "execution_count": 21,
   "metadata": {},
   "outputs": [],
   "source": [
    "layer.inital_state = init_state"
   ]
  },
  {
   "cell_type": "code",
   "execution_count": 22,
   "metadata": {},
   "outputs": [
    {
     "data": {
      "text/plain": [
       "<tf.Variable 'Variable:0' shape=(30, 200) dtype=float32, numpy=\n",
       "array([[0., 0., 0., ..., 0., 0., 0.],\n",
       "       [0., 0., 0., ..., 0., 0., 0.],\n",
       "       [0., 0., 0., ..., 0., 0., 0.],\n",
       "       ...,\n",
       "       [0., 0., 0., ..., 0., 0., 0.],\n",
       "       [0., 0., 0., ..., 0., 0., 0.],\n",
       "       [0., 0., 0., ..., 0., 0., 0.]], dtype=float32)>"
      ]
     },
     "execution_count": 22,
     "metadata": {},
     "output_type": "execute_result"
    }
   ],
   "source": [
    "layer.inital_state"
   ]
  },
  {
   "cell_type": "markdown",
   "metadata": {},
   "source": [
    "so, lets look at the outputs. The output of the stackedLSTM comes from 128 hidden_layer, and in each time step(=20), one of them get activated. we use the linear activation to map the 128 hidden layer to a [30X20 matrix]\n"
   ]
  },
  {
   "cell_type": "code",
   "execution_count": 23,
   "metadata": {},
   "outputs": [],
   "source": [
    "outputs = layer(inputs)"
   ]
  },
  {
   "cell_type": "code",
   "execution_count": 24,
   "metadata": {},
   "outputs": [
    {
     "data": {
      "text/plain": [
       "<tf.Tensor: shape=(30, 20, 128), dtype=float32, numpy=\n",
       "array([[[-8.2385232e-04,  7.4695220e-04, -7.5452350e-04, ...,\n",
       "         -4.6036323e-04,  1.1110552e-04, -1.1116454e-03],\n",
       "        [-2.2994787e-03,  1.2772686e-03, -1.1241731e-03, ...,\n",
       "         -1.1550819e-03,  6.1394367e-04, -1.2159960e-03],\n",
       "        [-3.2053422e-03,  1.9515386e-03, -8.6043857e-04, ...,\n",
       "         -8.7858085e-04,  1.4622550e-03,  1.2524446e-04],\n",
       "        ...,\n",
       "        [-2.8249850e-03, -4.6187448e-03, -8.9532183e-04, ...,\n",
       "         -2.1879468e-03,  2.3253311e-03,  4.2140409e-03],\n",
       "        [-2.5474720e-03, -4.6854792e-03, -2.3895877e-03, ...,\n",
       "         -2.6117729e-03,  2.7293870e-03,  3.6183896e-03],\n",
       "        [-2.7101217e-03, -4.6920963e-03, -3.5913710e-03, ...,\n",
       "         -3.0165752e-03,  3.3937779e-03,  3.9887428e-03]],\n",
       "\n",
       "       [[-3.1515947e-04,  7.9600082e-04,  3.3329951e-04, ...,\n",
       "         -7.2890706e-04, -5.1230297e-04, -1.5579404e-04],\n",
       "        [-7.1898435e-04,  1.7642510e-03, -4.2048038e-04, ...,\n",
       "         -1.0760367e-04, -5.1549001e-04, -7.2881184e-04],\n",
       "        [-6.2793301e-04,  5.8113626e-04, -3.8238699e-04, ...,\n",
       "         -1.7042134e-04,  3.5441524e-04, -1.2905683e-03],\n",
       "        ...,\n",
       "        [ 4.0838933e-03,  6.8954942e-03,  2.9383302e-03, ...,\n",
       "          5.2574612e-03,  3.5460966e-04,  6.1757746e-03],\n",
       "        [ 3.4097328e-03,  5.8844350e-03,  1.8420422e-03, ...,\n",
       "          5.3915838e-03,  7.9458288e-04,  7.0291064e-03],\n",
       "        [ 1.6672119e-03,  4.7269291e-03,  2.1666926e-03, ...,\n",
       "          6.6446508e-03,  1.8058850e-04,  7.0994422e-03]],\n",
       "\n",
       "       [[-3.1187927e-04, -5.3883984e-04, -6.1224971e-04, ...,\n",
       "          7.4459071e-04, -1.3736630e-03,  1.5813523e-04],\n",
       "        [-1.4183343e-04, -9.2402106e-04, -3.1543983e-04, ...,\n",
       "          3.1728749e-03, -1.4402171e-03,  1.3514616e-03],\n",
       "        [ 5.0268744e-05, -1.2643174e-03, -9.2592830e-04, ...,\n",
       "          2.8357857e-03, -2.5227030e-03,  2.3363153e-03],\n",
       "        ...,\n",
       "        [-1.7806833e-03, -7.1271381e-05, -1.4132791e-03, ...,\n",
       "          2.3521476e-04, -6.0652676e-03,  1.4971739e-03],\n",
       "        [-1.2497619e-03, -3.9186736e-04, -1.0075964e-03, ...,\n",
       "          1.1913981e-03, -6.5318239e-03,  8.1000145e-04],\n",
       "        [-1.5649907e-03, -1.9447646e-03,  6.4234955e-06, ...,\n",
       "          1.4137118e-03, -6.1728442e-03,  3.3437955e-04]],\n",
       "\n",
       "       ...,\n",
       "\n",
       "       [[ 4.4800207e-04, -1.2937802e-04,  3.5382871e-04, ...,\n",
       "         -1.3184245e-03, -1.2893318e-03,  8.7518289e-05],\n",
       "        [ 4.1134615e-04,  8.1342360e-04,  1.3634512e-04, ...,\n",
       "         -1.9560747e-04, -3.2053085e-03,  5.9923006e-04],\n",
       "        [ 2.7680659e-04,  1.7713691e-03,  6.6480204e-04, ...,\n",
       "          6.0610613e-04, -4.3450161e-03,  1.3869561e-03],\n",
       "        ...,\n",
       "        [-3.2763807e-03, -2.6785841e-04,  2.6294850e-03, ...,\n",
       "          5.2207746e-03, -6.6174390e-03, -2.5445656e-03],\n",
       "        [-2.7517381e-03, -6.7251886e-04,  2.8549940e-03, ...,\n",
       "          4.8271138e-03, -5.7310723e-03, -2.6250158e-03],\n",
       "        [-1.8026863e-03, -1.4875255e-03,  3.7168546e-03, ...,\n",
       "          4.5516156e-03, -4.3875165e-03, -1.9613469e-03]],\n",
       "\n",
       "       [[-5.7901168e-04,  7.9333450e-04, -1.2386352e-03, ...,\n",
       "         -4.0372790e-04, -2.5584153e-04, -1.8061850e-04],\n",
       "        [-2.5663916e-03,  1.0059644e-03, -1.5646265e-03, ...,\n",
       "         -4.6822891e-04,  1.3582621e-03,  7.4235344e-04],\n",
       "        [-3.2602446e-03,  9.5870160e-04, -2.3065372e-03, ...,\n",
       "         -1.5722824e-03,  1.8206326e-03,  1.5848426e-03],\n",
       "        ...,\n",
       "        [-2.4459700e-03,  8.5148739e-04, -9.1241288e-04, ...,\n",
       "         -4.5140698e-03, -2.1283855e-03, -1.6909840e-03],\n",
       "        [-1.6021968e-03,  8.4535923e-04, -1.8744712e-03, ...,\n",
       "         -3.8231851e-03, -2.2481277e-03, -2.6947670e-03],\n",
       "        [-5.5948447e-04,  1.7721360e-03, -1.0862302e-03, ...,\n",
       "         -1.9707242e-03, -2.3415531e-03, -3.4910569e-03]],\n",
       "\n",
       "       [[ 7.8192563e-04,  3.7699181e-04,  3.1691394e-04, ...,\n",
       "          3.3074943e-04, -7.8731959e-05, -1.0954229e-03],\n",
       "        [ 4.9882976e-04, -4.9933093e-04, -2.3161972e-04, ...,\n",
       "         -1.1157475e-03, -8.6749194e-04, -2.6727810e-03],\n",
       "        [-6.7945017e-05, -1.0651808e-03, -1.1739748e-03, ...,\n",
       "         -1.5165895e-03, -1.1253569e-03, -3.5327608e-03],\n",
       "        ...,\n",
       "        [ 1.2597202e-03, -3.6023797e-03, -2.7028474e-03, ...,\n",
       "         -2.2752496e-04,  3.1804214e-03,  5.2324417e-03],\n",
       "        [ 9.1796479e-04, -2.9834704e-03, -1.1255306e-03, ...,\n",
       "          4.0255563e-04,  2.0429979e-03,  4.8115840e-03],\n",
       "        [ 2.0133595e-03, -7.5676909e-04,  9.9814264e-04, ...,\n",
       "         -2.9117023e-04,  2.8021331e-03,  5.0505470e-03]]], dtype=float32)>"
      ]
     },
     "execution_count": 24,
     "metadata": {},
     "output_type": "execute_result"
    }
   ],
   "source": [
    "outputs"
   ]
  },
  {
   "cell_type": "markdown",
   "metadata": {},
   "source": [
    "<h2>Dense layer</h2>\n",
    "We now create densely-connected neural network layer that would reshape the outputs tensor from  [30 x 20 x 128] to [30 x 20 x 10000].\n"
   ]
  },
  {
   "cell_type": "code",
   "execution_count": 25,
   "metadata": {},
   "outputs": [],
   "source": [
    "dense = tf.keras.layers.Dense(vocab_size)"
   ]
  },
  {
   "cell_type": "code",
   "execution_count": 26,
   "metadata": {},
   "outputs": [],
   "source": [
    "logits_outputs  = dense(outputs)"
   ]
  },
  {
   "cell_type": "code",
   "execution_count": 27,
   "metadata": {},
   "outputs": [
    {
     "name": "stdout",
     "output_type": "stream",
     "text": [
      "shape of the output from dense layer:  (30, 20, 10000)\n"
     ]
    }
   ],
   "source": [
    "print(\"shape of the output from dense layer: \", logits_outputs.shape) #(batch_size, sequence_length, vocab_size)"
   ]
  },
  {
   "cell_type": "markdown",
   "metadata": {},
   "source": [
    "<h2>Activation layer</h2>\n",
    "\n",
    "\n",
    "A softmax activation layers is also then applied to derive the probability of the output being in any of the multiclass(10000 in this case) possibilities. \n"
   ]
  },
  {
   "cell_type": "code",
   "execution_count": 28,
   "metadata": {},
   "outputs": [],
   "source": [
    "activation = tf.keras.layers.Activation('softmax')"
   ]
  },
  {
   "cell_type": "code",
   "execution_count": 29,
   "metadata": {},
   "outputs": [],
   "source": [
    "output_words_prob = activation(logits_outputs)"
   ]
  },
  {
   "cell_type": "code",
   "execution_count": 30,
   "metadata": {},
   "outputs": [
    {
     "name": "stdout",
     "output_type": "stream",
     "text": [
      "shape of the output from the activation layer:  (30, 20, 10000)\n"
     ]
    }
   ],
   "source": [
    "print(\"shape of the output from the activation layer: \", output_words_prob.shape) #(batch_size, sequence_length, vocab_size)"
   ]
  },
  {
   "cell_type": "markdown",
   "metadata": {},
   "source": [
    "Lets look at the probability of observing words for t=0 to t=20:\n"
   ]
  },
  {
   "cell_type": "code",
   "execution_count": 31,
   "metadata": {},
   "outputs": [
    {
     "name": "stdout",
     "output_type": "stream",
     "text": [
      "The probability of observing words in t=0 to t=20 tf.Tensor(\n",
      "[[1.00016332e-04 1.00000463e-04 9.99854819e-05 ... 9.99934127e-05\n",
      "  9.99813929e-05 9.99990734e-05]\n",
      " [1.00037818e-04 1.00006619e-04 9.99601180e-05 ... 1.00007717e-04\n",
      "  9.99781623e-05 9.99771801e-05]\n",
      " [1.00055855e-04 1.00026606e-04 9.99487238e-05 ... 1.00028548e-04\n",
      "  9.99968615e-05 9.99675831e-05]\n",
      " ...\n",
      " [1.00015350e-04 1.00027130e-04 1.00030484e-04 ... 1.00154823e-04\n",
      "  9.99867043e-05 1.00035119e-04]\n",
      " [9.99984914e-05 1.00025114e-04 1.00036086e-04 ... 1.00133599e-04\n",
      "  9.99608892e-05 1.00014018e-04]\n",
      " [1.00004851e-04 1.00015030e-04 1.00039135e-04 ... 1.00126657e-04\n",
      "  9.99407930e-05 9.99950717e-05]], shape=(20, 10000), dtype=float32)\n"
     ]
    }
   ],
   "source": [
    "print(\"The probability of observing words in t=0 to t=20\", output_words_prob[0,0:num_steps])"
   ]
  },
  {
   "cell_type": "markdown",
   "metadata": {},
   "source": [
    "<h3>Prediction</h3>\n",
    "What is the word correspond to the probability output? Lets use the maximum probability:\n"
   ]
  },
  {
   "cell_type": "code",
   "execution_count": 32,
   "metadata": {},
   "outputs": [
    {
     "data": {
      "text/plain": [
       "array([9976, 4573, 2347, 2347,  112,  112, 6196, 2452, 2452, 2452, 2452,\n",
       "       2452, 8302, 8384, 8384, 5797, 5797, 5797, 8406, 9961])"
      ]
     },
     "execution_count": 32,
     "metadata": {},
     "output_type": "execute_result"
    }
   ],
   "source": [
    "np.argmax(output_words_prob[0,0:num_steps], axis=1)"
   ]
  },
  {
   "cell_type": "markdown",
   "metadata": {},
   "source": [
    "So, what is the ground truth for the first word of first sentence? You can get it from target tensor, if you want to find the embedding vector: \n"
   ]
  },
  {
   "cell_type": "code",
   "execution_count": 33,
   "metadata": {},
   "outputs": [
    {
     "data": {
      "text/plain": [
       "array([9971, 9972, 9974, 9975, 9976, 9980, 9981, 9982, 9983, 9984, 9986,\n",
       "       9987, 9988, 9989, 9991, 9992, 9993, 9994, 9995, 9996], dtype=int32)"
      ]
     },
     "execution_count": 33,
     "metadata": {},
     "output_type": "execute_result"
    }
   ],
   "source": [
    "_targets[0]"
   ]
  },
  {
   "cell_type": "markdown",
   "metadata": {},
   "source": [
    "<h4>Objective function</h4>\n",
    "\n",
    "\n",
    "How similar the predicted words are to the target words?\n",
    "\n",
    "\n",
    "Now we have to define our objective function, to calculate the similarity of predicted values to ground truth, and then, penalize the model with the error. Our objective is to minimize loss function, that is, to minimize the average negative log probability of the target words:\n",
    "\n",
    "$$\\text{loss} = -\\frac{1}{N}\\sum_{i=1}^{N} \\ln p_{\\text{target}_i}$$\n",
    "\n",
    "This function is already implemented and available in TensorFlow through *tf.keras.losses.sparse_categorical_crossentropy*. It calculates the categorical cross-entropy loss for <b>logits</b> and the <b>target</b> sequence.  \n",
    "\n",
    "The arguments of this function are:  \n",
    "<ul>\n",
    "    <li>logits: List of 2D Tensors of shape [batch_size x num_decoder_symbols].</li>  \n",
    "    <li>targets: List of 1D batch-sized int32 Tensors of the same length as logits.</li>   \n",
    "</ul>\n"
   ]
  },
  {
   "cell_type": "code",
   "execution_count": 34,
   "metadata": {},
   "outputs": [],
   "source": [
    "def crossentropy(y_true, y_pred):\n",
    "    return tf.keras.losses.sparse_categorical_crossentropy(y_true, y_pred)"
   ]
  },
  {
   "cell_type": "code",
   "execution_count": 35,
   "metadata": {},
   "outputs": [],
   "source": [
    "loss  = crossentropy(_targets, output_words_prob)"
   ]
  },
  {
   "cell_type": "markdown",
   "metadata": {},
   "source": [
    "Lets look at the first 10 values of loss:\n"
   ]
  },
  {
   "cell_type": "code",
   "execution_count": 36,
   "metadata": {},
   "outputs": [
    {
     "data": {
      "text/plain": [
       "<tf.Tensor: shape=(10,), dtype=float32, numpy=\n",
       "array([9.210377, 9.210496, 9.210281, 9.210202, 9.20977 , 9.210053,\n",
       "       9.21028 , 9.210472, 9.210467, 9.211136], dtype=float32)>"
      ]
     },
     "execution_count": 36,
     "metadata": {},
     "output_type": "execute_result"
    }
   ],
   "source": [
    "loss[0,:10]"
   ]
  },
  {
   "cell_type": "markdown",
   "metadata": {},
   "source": [
    "Now, we define cost as average of the losses:\n"
   ]
  },
  {
   "cell_type": "code",
   "execution_count": 37,
   "metadata": {},
   "outputs": [
    {
     "data": {
      "text/plain": [
       "<tf.Tensor: shape=(), dtype=float32, numpy=184.2068>"
      ]
     },
     "execution_count": 37,
     "metadata": {},
     "output_type": "execute_result"
    }
   ],
   "source": [
    "cost = tf.reduce_sum(loss / batch_size)\n",
    "cost"
   ]
  },
  {
   "cell_type": "markdown",
   "metadata": {},
   "source": [
    "<h3>Training</h3>\n",
    "\n",
    "To do training for our network, we have to take the following steps:\n",
    "<ol>\n",
    "    <li>Define the optimizer.</li>\n",
    "    <li>Assemble layers to build model.</li>\n",
    "    <li>Calculate the gradients based on the loss function.</li>\n",
    "    <li>Apply the optimizer to the variables/gradients tuple.</li>\n",
    "</ol>\n"
   ]
  },
  {
   "cell_type": "markdown",
   "metadata": {},
   "source": [
    "<h4>1. Define Optimizer</h4>\n",
    "\n"
   ]
  },
  {
   "cell_type": "code",
   "execution_count": 38,
   "metadata": {},
   "outputs": [
    {
     "name": "stderr",
     "output_type": "stream",
     "text": [
      "/home/jupyterlab/conda/envs/python/lib/python3.7/site-packages/keras/optimizers/optimizer_v2/gradient_descent.py:108: UserWarning: The `lr` argument is deprecated, use `learning_rate` instead.\n",
      "  super(SGD, self).__init__(name, **kwargs)\n"
     ]
    }
   ],
   "source": [
    "# Create a variable for the learning rate\n",
    "lr = tf.Variable(0.0, trainable=False)\n",
    "optimizer = tf.keras.optimizers.SGD(lr=lr, clipnorm=max_grad_norm)"
   ]
  },
  {
   "cell_type": "markdown",
   "metadata": {},
   "source": [
    "<h4>2. Assemble layers to build model.</h4>\n"
   ]
  },
  {
   "cell_type": "code",
   "execution_count": 39,
   "metadata": {},
   "outputs": [
    {
     "name": "stdout",
     "output_type": "stream",
     "text": [
      "Model: \"sequential\"\n",
      "_________________________________________________________________\n",
      " Layer (type)                Output Shape              Param #   \n",
      "=================================================================\n",
      " embedding_vocab (Embedding)  (30, 20, 200)            2000000   \n",
      "                                                                 \n",
      " rnn (RNN)                   (30, 20, 128)             671088    \n",
      "                                                                 \n",
      " dense (Dense)               (30, 20, 10000)           1290000   \n",
      "                                                                 \n",
      " activation (Activation)     (30, 20, 10000)           0         \n",
      "                                                                 \n",
      "=================================================================\n",
      "Total params: 3,961,088\n",
      "Trainable params: 3,955,088\n",
      "Non-trainable params: 6,000\n",
      "_________________________________________________________________\n"
     ]
    }
   ],
   "source": [
    "model = tf.keras.Sequential()\n",
    "model.add(embedding_layer)\n",
    "model.add(layer)\n",
    "model.add(dense)\n",
    "model.add(activation)\n",
    "model.compile(loss=crossentropy, optimizer=optimizer)\n",
    "model.summary()"
   ]
  },
  {
   "cell_type": "markdown",
   "metadata": {},
   "source": [
    "\n",
    "<h4>2. Trainable Variables</h4>\n"
   ]
  },
  {
   "cell_type": "markdown",
   "metadata": {},
   "source": [
    "Defining a variable, if you passed <i>trainable=True</i>, the variable constructor automatically adds new variables to the graph collection <b>GraphKeys.TRAINABLE_VARIABLES</b>. Now, using <i>tf.trainable_variables()</i> you can get all variables created with <b>trainable=True</b>.\n"
   ]
  },
  {
   "cell_type": "code",
   "execution_count": 40,
   "metadata": {},
   "outputs": [],
   "source": [
    "# Get all TensorFlow variables marked as \"trainable\" (i.e. all of them except _lr, which we just created)\n",
    "tvars = model.trainable_variables"
   ]
  },
  {
   "cell_type": "markdown",
   "metadata": {},
   "source": [
    "Note: we can find the name and scope of all variables:\n"
   ]
  },
  {
   "cell_type": "code",
   "execution_count": 41,
   "metadata": {},
   "outputs": [
    {
     "data": {
      "text/plain": [
       "['embedding_vocab/embeddings:0',\n",
       " 'rnn/stacked_rnn_cells/lstm_cell/kernel:0',\n",
       " 'rnn/stacked_rnn_cells/lstm_cell/recurrent_kernel:0',\n",
       " 'rnn/stacked_rnn_cells/lstm_cell/bias:0',\n",
       " 'rnn/stacked_rnn_cells/lstm_cell_1/kernel:0',\n",
       " 'rnn/stacked_rnn_cells/lstm_cell_1/recurrent_kernel:0',\n",
       " 'rnn/stacked_rnn_cells/lstm_cell_1/bias:0',\n",
       " 'dense/kernel:0',\n",
       " 'dense/bias:0']"
      ]
     },
     "execution_count": 41,
     "metadata": {},
     "output_type": "execute_result"
    }
   ],
   "source": [
    "[v.name for v in tvars] "
   ]
  },
  {
   "cell_type": "markdown",
   "metadata": {},
   "source": [
    "<h4>3. Calculate the gradients based on the loss function</h4>\n"
   ]
  },
  {
   "cell_type": "markdown",
   "metadata": {},
   "source": [
    "**Gradient**: The gradient of a function is the slope of its derivative (line), or in other words, the rate of change of a function. It's a vector (a direction to move) that points in the direction of greatest increase of the function, and calculated by the <b>derivative</b> operation.\n"
   ]
  },
  {
   "cell_type": "markdown",
   "metadata": {},
   "source": [
    "First lets recall the gradient function using an toy example:\n",
    "$$ z = \\left(2x^2 + 3xy\\right)$$\n"
   ]
  },
  {
   "cell_type": "code",
   "execution_count": 42,
   "metadata": {},
   "outputs": [],
   "source": [
    "x = tf.constant(1.0)\n",
    "y =  tf.constant(2.0)\n",
    "with tf.GradientTape(persistent=True) as g:\n",
    "    g.watch(x)\n",
    "    g.watch(y)\n",
    "    func_test = 2 * x * x + 3 * x * y"
   ]
  },
  {
   "cell_type": "markdown",
   "metadata": {},
   "source": [
    "The <b>tf.gradients()</b> function allows you to compute the symbolic gradient of one tensor with respect to one or more other tensors—including variables. <b>tf.gradients(func, xs)</b> constructs symbolic partial derivatives of sum of <b>func</b> w.r.t. <i>x</i> in <b>xs</b>. \n",
    "\n",
    "Now, lets look at the derivitive w.r.t. <b>var_x</b>:\n",
    "$$ \\frac{\\partial \\:}{\\partial \\:x}\\left(2x^2 + 3xy\\right) = 4x + 3y $$\n"
   ]
  },
  {
   "cell_type": "code",
   "execution_count": 43,
   "metadata": {},
   "outputs": [
    {
     "name": "stdout",
     "output_type": "stream",
     "text": [
      "tf.Tensor(10.0, shape=(), dtype=float32)\n"
     ]
    }
   ],
   "source": [
    "var_grad = g.gradient(func_test, x) # Will compute to 10.0\n",
    "print(var_grad)"
   ]
  },
  {
   "cell_type": "markdown",
   "metadata": {},
   "source": [
    "the derivative w.r.t. <b>var_y</b>:\n",
    "$$ \\frac{\\partial \\:}{\\partial \\:y}\\left(2x^2 + 3xy\\right) = 3x $$\n"
   ]
  },
  {
   "cell_type": "code",
   "execution_count": 44,
   "metadata": {},
   "outputs": [
    {
     "name": "stdout",
     "output_type": "stream",
     "text": [
      "tf.Tensor(3.0, shape=(), dtype=float32)\n"
     ]
    }
   ],
   "source": [
    "var_grad = g.gradient(func_test, y) # Will compute to 3.0\n",
    "print(var_grad)"
   ]
  },
  {
   "cell_type": "markdown",
   "metadata": {},
   "source": [
    "Now, we can look at gradients w.r.t all variables:\n"
   ]
  },
  {
   "cell_type": "code",
   "execution_count": 45,
   "metadata": {},
   "outputs": [],
   "source": [
    "with tf.GradientTape() as tape:\n",
    "    # Forward pass.\n",
    "    output_words_prob = model(_input_data)\n",
    "    # Loss value for this batch.\n",
    "    loss  = crossentropy(_targets, output_words_prob)\n",
    "    cost = tf.reduce_sum(loss,axis=0) / batch_size"
   ]
  },
  {
   "cell_type": "code",
   "execution_count": 46,
   "metadata": {},
   "outputs": [],
   "source": [
    "# Get gradients of loss wrt the trainable variables.\n",
    "grad_t_list = tape.gradient(cost, tvars)"
   ]
  },
  {
   "cell_type": "code",
   "execution_count": 47,
   "metadata": {},
   "outputs": [
    {
     "name": "stdout",
     "output_type": "stream",
     "text": [
      "[<tensorflow.python.framework.indexed_slices.IndexedSlices object at 0x7fda28888690>, <tf.Tensor: shape=(200, 1024), dtype=float32, numpy=\n",
      "array([[-3.7303306e-07,  9.2464529e-07, -4.8525555e-07, ...,\n",
      "         4.6319357e-07, -1.8489877e-07, -2.0984476e-07],\n",
      "       [ 3.3750749e-07, -1.2918088e-07, -1.3604317e-07, ...,\n",
      "         8.9607632e-08,  2.3423735e-07,  2.6648260e-07],\n",
      "       [-6.3994605e-07, -5.4660654e-07, -1.6405896e-07, ...,\n",
      "        -5.1693621e-07, -5.7015086e-09, -1.8625168e-07],\n",
      "       ...,\n",
      "       [ 4.4277553e-07, -2.6847715e-08,  5.4796885e-07, ...,\n",
      "         1.1005698e-06, -2.0492067e-07,  6.7103656e-07],\n",
      "       [-1.5730809e-07, -5.9565809e-07,  8.4176065e-07, ...,\n",
      "        -1.4977776e-07, -3.7249342e-07,  2.9415730e-08],\n",
      "       [-5.5519996e-07, -1.3491535e-06, -4.3005218e-07, ...,\n",
      "         1.3446090e-07, -2.9626688e-07, -1.2954857e-08]], dtype=float32)>, <tf.Tensor: shape=(256, 1024), dtype=float32, numpy=\n",
      "array([[ 3.4509133e-09, -1.5853175e-08,  1.2951036e-08, ...,\n",
      "         1.0467946e-07,  2.0475920e-08, -1.0278044e-08],\n",
      "       [-5.5913745e-08, -6.2253307e-08, -1.4486874e-08, ...,\n",
      "        -5.0743630e-08, -3.3524742e-08,  4.1804888e-09],\n",
      "       [ 1.6681717e-08,  8.3961723e-08,  1.2957537e-07, ...,\n",
      "         1.6471454e-08, -3.7565542e-09, -2.0767911e-07],\n",
      "       ...,\n",
      "       [-7.4447755e-09, -3.7127961e-08,  2.3737712e-07, ...,\n",
      "        -6.2211757e-07,  2.5834535e-08,  1.0058066e-08],\n",
      "       [ 1.3356919e-08, -1.9529168e-08, -3.8746347e-08, ...,\n",
      "         8.6810296e-08,  3.4091393e-08,  1.0722290e-07],\n",
      "       [ 2.1487931e-09,  1.1416215e-07, -1.4623417e-08, ...,\n",
      "         1.3437499e-07, -1.1155653e-07, -9.9783293e-08]], dtype=float32)>, <tf.Tensor: shape=(1024,), dtype=float32, numpy=\n",
      "array([-1.3333429e-05,  3.5141775e-06,  9.8269293e-06, ...,\n",
      "        8.4260610e-06, -9.7387383e-06, -2.4124469e-05], dtype=float32)>, <tf.Tensor: shape=(256, 512), dtype=float32, numpy=\n",
      "array([[ 1.04006325e-07, -1.03334230e-08,  9.94953666e-08, ...,\n",
      "         1.75654847e-07,  2.68968961e-07, -1.54789348e-07],\n",
      "       [-5.99825398e-08,  1.73690523e-07,  1.14260423e-07, ...,\n",
      "        -1.27318856e-07,  2.01263717e-07,  3.75322600e-07],\n",
      "       [-4.22986091e-10,  1.23772509e-07,  8.33367153e-09, ...,\n",
      "        -1.12914307e-07, -1.00070736e-07, -2.45729481e-08],\n",
      "       ...,\n",
      "       [ 6.97557851e-08, -4.29239257e-08, -1.67545338e-08, ...,\n",
      "        -1.42840406e-07, -8.28300131e-08, -2.29063460e-07],\n",
      "       [-5.49295365e-09,  1.39389883e-07, -3.55923078e-08, ...,\n",
      "         4.38693100e-08,  1.73643045e-07,  1.18071242e-07],\n",
      "       [-1.32700450e-07, -2.58138698e-07, -5.23538830e-08, ...,\n",
      "        -8.48909281e-08,  2.64613931e-08,  2.26196221e-07]], dtype=float32)>, <tf.Tensor: shape=(128, 512), dtype=float32, numpy=\n",
      "array([[ 1.4742611e-07,  2.7839535e-09,  1.0790443e-07, ...,\n",
      "        -1.6859918e-08,  3.5765382e-09,  7.1930515e-08],\n",
      "       [ 3.8638262e-08,  3.4383450e-07,  1.3009883e-07, ...,\n",
      "        -4.8458624e-08,  1.2037277e-07,  7.2259780e-08],\n",
      "       [ 6.9877260e-10, -1.9549648e-07, -6.2231855e-08, ...,\n",
      "        -1.9944217e-08, -4.6557080e-08,  1.0175655e-07],\n",
      "       ...,\n",
      "       [ 8.9501988e-08, -3.8881367e-08,  1.0234862e-08, ...,\n",
      "        -8.6474643e-08, -3.8580424e-08, -1.0026492e-07],\n",
      "       [-8.1812786e-08,  1.2349003e-07,  4.0071207e-08, ...,\n",
      "         6.2256007e-08,  3.7670119e-07,  4.0648480e-08],\n",
      "       [-7.2235153e-08, -2.1364511e-07,  5.1320363e-08, ...,\n",
      "        -3.2651595e-08, -1.5339403e-07,  4.1096044e-07]], dtype=float32)>, <tf.Tensor: shape=(512,), dtype=float32, numpy=\n",
      "array([ 1.70044041e-05, -5.21375769e-05,  1.31430788e-05,  1.21272409e-04,\n",
      "        1.32487512e-05,  2.68762324e-06, -3.70157031e-05, -5.82783941e-05,\n",
      "        5.71362725e-05, -5.23230619e-06,  1.31137058e-04,  2.01730290e-06,\n",
      "       -4.38337884e-05, -1.09635585e-05, -2.43346331e-05,  7.98450674e-06,\n",
      "       -3.60773665e-05, -2.66466486e-05, -4.26156475e-06,  4.89218583e-05,\n",
      "        7.48134516e-06, -2.36521846e-05,  5.99913801e-06,  2.66927818e-05,\n",
      "       -2.46739146e-05,  2.31596687e-06,  5.03017509e-06, -9.17018042e-06,\n",
      "        2.13458698e-05,  1.93273881e-05, -1.29520249e-05,  1.53570945e-05,\n",
      "       -6.74605690e-06,  8.02299473e-06, -1.39823342e-05, -4.72726715e-05,\n",
      "       -3.22674532e-06,  2.01112925e-05,  2.20394286e-05, -3.07963237e-05,\n",
      "        3.99430428e-05, -8.63945024e-05,  1.77037728e-05, -4.73899672e-05,\n",
      "        1.37778379e-05, -9.26887515e-05, -5.99682880e-06, -3.35308032e-05,\n",
      "        1.70445837e-05,  5.78733743e-05, -6.29180249e-07,  3.17617269e-05,\n",
      "       -5.05577555e-06, -2.25658714e-05,  2.05265314e-05, -6.98923468e-05,\n",
      "       -2.60867128e-05, -4.12560148e-05, -2.64135906e-05, -1.11522804e-05,\n",
      "       -4.34152316e-05,  1.70460135e-05,  5.43812030e-06, -8.77536331e-06,\n",
      "        3.72990944e-05, -3.25605506e-05, -1.06159041e-05,  1.15161092e-05,\n",
      "       -4.43071076e-05,  1.29182190e-05, -2.43953546e-05,  3.59450587e-06,\n",
      "       -2.69195152e-05,  1.02576723e-05,  3.67956054e-05,  3.17127342e-05,\n",
      "       -3.41440063e-05,  8.63130299e-06,  3.44415312e-05, -1.52210514e-05,\n",
      "        2.58798809e-05,  4.87300058e-05,  9.62222839e-06, -6.44281536e-05,\n",
      "       -2.19241883e-05,  1.32228597e-04, -3.54232034e-05,  2.47518965e-05,\n",
      "       -5.04943746e-05,  4.00658864e-05,  6.52341478e-05, -2.59214248e-05,\n",
      "       -5.40303736e-05,  6.29020724e-06, -1.20682153e-05,  7.68750215e-06,\n",
      "        1.10728670e-05,  1.36670405e-06, -4.76629139e-05, -2.47885964e-07,\n",
      "        1.10715146e-05,  5.62361456e-05,  1.11603922e-05, -3.42758358e-05,\n",
      "       -3.09682764e-05,  1.08820150e-05, -5.45224357e-05, -2.53914604e-05,\n",
      "        8.33059948e-06, -1.13086780e-05,  2.40579302e-05,  4.35857801e-05,\n",
      "       -2.64233313e-06,  1.09901521e-07, -2.00689683e-05,  2.57651482e-05,\n",
      "        8.86127691e-06, -3.17432432e-06, -1.47688352e-05,  4.32566594e-05,\n",
      "       -3.70372582e-05,  4.76188798e-05, -8.61811423e-05, -4.20347715e-06,\n",
      "       -3.73338517e-05, -2.35976768e-05, -6.86666172e-05,  5.00314018e-05,\n",
      "        3.36496014e-05, -5.35881554e-05, -4.54199380e-06,  1.73034539e-04,\n",
      "        1.38189771e-05, -1.48190693e-05, -4.96162975e-05, -1.21861289e-04,\n",
      "        3.64384687e-05, -3.82555390e-06,  1.91479659e-04,  7.06093670e-06,\n",
      "       -6.43718522e-05, -2.80469249e-05, -1.84369201e-05,  3.73518960e-05,\n",
      "       -4.04238817e-05, -3.19452229e-05, -1.33103986e-05,  6.99872471e-05,\n",
      "        4.08491105e-05, -3.16198202e-05, -7.68771588e-06,  4.60372030e-05,\n",
      "       -7.16902796e-05,  8.59441116e-06,  2.70885321e-05, -1.16034971e-05,\n",
      "        2.29581074e-05,  1.89915718e-05, -2.45567735e-05,  1.73550980e-05,\n",
      "       -1.91664149e-05,  1.48585477e-05, -3.25559959e-05, -5.89408373e-05,\n",
      "       -6.39587870e-06,  3.34383731e-05,  3.88837834e-05, -4.03992017e-05,\n",
      "        2.62774920e-05, -1.00649253e-04,  2.91223150e-05, -3.63027611e-05,\n",
      "        3.68708497e-05, -1.45030441e-04,  1.18713251e-05, -3.06186776e-05,\n",
      "        3.56441069e-06,  6.95281633e-05, -8.08708319e-06,  2.89767850e-05,\n",
      "       -2.62123867e-05, -2.56218755e-05,  2.49780860e-05, -8.86486087e-05,\n",
      "       -3.60408776e-05, -7.12163164e-05, -2.85697352e-05, -1.69085306e-05,\n",
      "       -2.90039716e-05,  1.75198129e-05,  4.22848098e-05,  7.56574764e-06,\n",
      "        6.81306119e-05, -4.67767459e-05, -3.97177500e-05,  2.75238745e-05,\n",
      "       -4.16758339e-05,  2.90305998e-05, -5.93349905e-05,  1.53909969e-05,\n",
      "       -4.99264133e-05,  4.27254781e-05,  4.23210586e-05,  4.35318252e-05,\n",
      "       -3.78653385e-05,  1.36154422e-05,  5.71042110e-05, -9.31495379e-07,\n",
      "        2.95219652e-05,  7.54861831e-05,  2.21221362e-05, -8.32573060e-05,\n",
      "       -6.05859259e-06,  2.05555567e-04, -6.21566796e-05,  4.00294157e-05,\n",
      "       -6.05901478e-05,  6.32631709e-05,  8.43825546e-05, -1.97471436e-05,\n",
      "       -6.48410714e-05, -7.33659181e-06, -4.27607301e-05,  2.29916077e-05,\n",
      "        6.41348970e-06, -2.62115700e-05, -5.13586529e-05,  3.85443309e-06,\n",
      "        7.30894499e-07,  8.21378344e-05,  8.64577487e-06, -4.52443528e-05,\n",
      "       -2.62916074e-05,  3.22918859e-05, -8.21393041e-05, -1.28964211e-05,\n",
      "        1.85732824e-05, -5.44362410e-06,  3.65197120e-05,  7.90955019e-05,\n",
      "        8.23555729e-06,  1.59518313e-05, -4.32809975e-05,  4.52148015e-05,\n",
      "        2.93602534e-05, -1.01395626e-05, -2.69909287e-05,  7.44370336e-05,\n",
      "       -7.24473794e-05,  4.57789320e-05, -1.16056639e-04, -3.30121838e-05,\n",
      "       -6.64950276e-05, -1.01016576e-05, -1.00948804e-04,  5.77865940e-05,\n",
      "        2.89564990e-02,  3.18852663e-02, -9.63011757e-03, -6.11977242e-02,\n",
      "        6.77396217e-03, -1.78573318e-02, -1.66289520e-03, -4.40571755e-02,\n",
      "       -1.40477298e-03, -3.09282579e-02,  5.97517863e-02,  5.60455304e-03,\n",
      "       -3.24498937e-02, -2.03620698e-02, -4.20481805e-03,  1.22962808e-02,\n",
      "       -1.66563597e-02,  5.82159162e-02,  1.66653506e-02,  2.73197331e-02,\n",
      "       -3.82456332e-02,  6.21464802e-03, -1.30167790e-03, -2.24638768e-02,\n",
      "       -7.33062485e-03, -2.42563877e-02,  1.87798087e-02, -1.48027744e-02,\n",
      "        2.00124155e-03,  6.68931380e-03, -1.02339303e-02,  1.10674556e-02,\n",
      "        2.38576904e-02, -2.19097249e-02, -3.71639850e-03,  2.75625475e-02,\n",
      "       -2.56763287e-02,  1.25490120e-02, -8.14427063e-03,  4.55764271e-02,\n",
      "       -4.39393856e-02, -4.16407436e-02,  2.59524137e-02, -1.61064025e-02,\n",
      "       -1.62451826e-02,  3.50908563e-02, -2.25278847e-02,  2.04260144e-02,\n",
      "       -1.37372091e-02,  2.77394429e-02,  4.14939690e-03,  1.25456471e-02,\n",
      "        3.74139622e-02,  1.16195371e-02,  2.12114528e-02, -6.87874705e-02,\n",
      "        3.56631614e-02, -4.53508738e-03,  2.92787831e-02,  5.11883199e-03,\n",
      "        8.54217447e-03,  3.06617841e-02, -1.89906582e-02, -3.13796774e-02,\n",
      "        1.79630425e-02, -8.40640590e-02, -1.17586963e-02,  4.52681538e-03,\n",
      "       -1.28648169e-02, -3.16901244e-02, -1.60283521e-02,  5.24032488e-02,\n",
      "       -4.46609557e-02,  9.93639790e-03,  3.78842186e-03, -3.29985991e-02,\n",
      "       -2.22479850e-02,  3.61202136e-02, -2.75122635e-02, -1.36210956e-02,\n",
      "       -2.02566627e-02, -2.50568427e-02,  2.59221364e-02,  2.92388760e-02,\n",
      "        9.35154967e-05,  5.06517217e-02,  6.96208980e-03,  2.84070279e-02,\n",
      "        2.99771316e-02,  3.60583067e-02, -1.64064206e-02,  5.04631773e-02,\n",
      "       -1.24410614e-02,  1.80180557e-02,  1.66937821e-02, -1.75490938e-02,\n",
      "        8.22514854e-03,  3.22753713e-02,  6.85319752e-02,  2.20761709e-02,\n",
      "       -4.30945680e-03, -2.01530140e-02,  5.54688834e-03, -1.17802937e-02,\n",
      "       -3.70756909e-03, -1.18495543e-02, -2.21448410e-02,  1.19660143e-02,\n",
      "        3.58524267e-03, -6.62549806e-04, -2.82638501e-02, -5.16816974e-02,\n",
      "       -1.19672809e-02, -8.06386583e-03, -2.94530415e-03, -4.89733787e-03,\n",
      "       -1.36591196e-02,  1.75700467e-02, -4.58942261e-03, -2.49080658e-02,\n",
      "       -1.10136718e-02, -4.21809079e-03,  5.07228822e-02, -1.75841025e-03,\n",
      "        7.73824286e-04, -9.41288192e-03,  1.20616611e-02,  2.06519328e-02,\n",
      "        2.12980412e-05, -5.03104275e-05,  6.52132894e-06,  1.52063454e-04,\n",
      "        1.84410383e-05, -4.25932376e-06, -4.36627743e-05, -7.39697862e-05,\n",
      "        6.91284222e-05, -1.87603905e-06,  1.50174252e-04,  1.44799487e-05,\n",
      "       -4.73658802e-05, -1.59799893e-05, -2.59094923e-05,  7.32120589e-06,\n",
      "       -3.32027048e-05, -2.78159041e-05, -2.62466256e-06,  6.27059562e-05,\n",
      "        1.27792373e-05, -2.52812897e-05,  3.43874763e-06,  2.88872361e-05,\n",
      "       -2.42304304e-05,  2.20558059e-06,  1.76429403e-05, -4.28952626e-06,\n",
      "        2.79535197e-05,  2.44952316e-05, -8.11005066e-06,  1.32884588e-05,\n",
      "       -8.29545479e-06,  4.01617945e-06, -2.00470840e-05, -6.19768980e-05,\n",
      "       -3.05392859e-06,  2.48147189e-05,  2.65536764e-05, -3.47385576e-05,\n",
      "        4.19656790e-05, -9.10461458e-05,  2.82068395e-05, -5.21041875e-05,\n",
      "        2.88483170e-05, -1.13174341e-04,  5.67363713e-06, -4.31676599e-05,\n",
      "        1.01408323e-05,  7.03207916e-05, -2.01908733e-06,  2.34227155e-05,\n",
      "       -1.79575327e-05, -2.29266770e-05,  2.48633296e-05, -7.23905541e-05,\n",
      "       -3.06688016e-05, -4.52323002e-05, -2.00857939e-05, -1.56470851e-05,\n",
      "       -5.14329004e-05,  6.85320265e-06,  1.42501140e-05,  1.04677383e-06,\n",
      "        4.64554214e-05, -3.62808605e-05, -1.40434795e-05,  1.73923963e-05,\n",
      "       -4.69364859e-05,  1.78351038e-05, -2.64464506e-05,  8.00332145e-06,\n",
      "       -2.36044452e-05,  1.46508064e-05,  4.33263995e-05,  3.85663552e-05,\n",
      "       -3.53166906e-05,  7.15917349e-06,  3.01666314e-05, -1.66637947e-05,\n",
      "        2.19181020e-05,  6.58923527e-05,  7.83375071e-08, -6.91542300e-05,\n",
      "       -2.97716797e-05,  1.53091780e-04, -4.14028254e-05,  3.57846220e-05,\n",
      "       -5.69532349e-05,  3.40028018e-05,  7.69494436e-05, -3.32359159e-05,\n",
      "       -5.71886158e-05,  1.08369386e-05, -1.21871162e-05,  1.09466982e-05,\n",
      "        3.47584637e-06,  2.69236489e-06, -5.07056357e-05, -2.29895340e-06,\n",
      "        1.20658615e-05,  6.60192163e-05,  9.26038138e-06, -3.73105868e-05,\n",
      "       -3.10712931e-05,  1.83142620e-05, -5.31442129e-05, -3.29605355e-05,\n",
      "        7.77285459e-06, -1.05117470e-05,  1.87359292e-05,  4.06543259e-05,\n",
      "       -5.18599336e-06,  5.31443720e-06, -3.31061165e-05,  3.53031573e-05,\n",
      "        1.26966461e-05, -4.30182308e-06, -2.14036736e-05,  5.05129865e-05,\n",
      "       -3.91806534e-05,  4.71170242e-05, -1.02378013e-04, -6.33899981e-06,\n",
      "       -3.62812534e-05, -1.43767884e-05, -7.98271358e-05,  4.57781498e-05],\n",
      "      dtype=float32)>, <tf.Tensor: shape=(128, 10000), dtype=float32, numpy=\n",
      "array([[-1.0701837e-03, -9.1326551e-04, -8.6057710e-04, ...,\n",
      "         1.9299259e-06,  1.9285430e-06,  1.9299923e-06],\n",
      "       [ 1.7270551e-03,  2.5004779e-03,  1.0994627e-03, ...,\n",
      "        -2.5706786e-06, -2.5700997e-06, -2.5695863e-06],\n",
      "       [-1.0037411e-03, -1.4016180e-03, -2.8556711e-03, ...,\n",
      "         3.7698946e-06,  3.7690570e-06,  3.7696550e-06],\n",
      "       ...,\n",
      "       [-2.3594087e-03, -2.3722195e-03, -2.3589921e-03, ...,\n",
      "         3.5542289e-06,  3.5531762e-06,  3.5537639e-06],\n",
      "       [ 3.0610436e-03,  2.5213868e-03,  4.0588579e-03, ...,\n",
      "        -6.3667035e-06, -6.3647417e-06, -6.3659318e-06],\n",
      "       [-2.4869326e-03, -2.7739855e-03, -2.2194793e-03, ...,\n",
      "         4.6474165e-06,  4.6455903e-06,  4.6449431e-06]], dtype=float32)>, <tf.Tensor: shape=(10000,), dtype=float32, numpy=\n",
      "array([-0.79799825, -1.0313314 , -1.0313314 , ...,  0.00200058,\n",
      "        0.00199975,  0.00200007], dtype=float32)>]\n"
     ]
    }
   ],
   "source": [
    "print(grad_t_list)"
   ]
  },
  {
   "cell_type": "markdown",
   "metadata": {},
   "source": [
    "\n",
    "\n",
    "\n",
    "now, we have a list of tensors, t-list. We can use it to find clipped tensors. <b>clip_by_global_norm</b> clips values of multiple tensors by the ratio of the sum of their norms.\n",
    "\n",
    "<b>clip_by_global_norm</b> get <i>t-list</i> as input and returns 2 things:\n",
    "<ul>\n",
    "    <li>a list of clipped tensors, so called <i>list_clipped</i></li> \n",
    "    <li>the global norm (global_norm) of all tensors in t_list</li> \n",
    "</ul>\n"
   ]
  },
  {
   "cell_type": "code",
   "execution_count": 48,
   "metadata": {},
   "outputs": [
    {
     "data": {
      "text/plain": [
       "[<tensorflow.python.framework.indexed_slices.IndexedSlices at 0x7fda288a2590>,\n",
       " <tf.Tensor: shape=(200, 1024), dtype=float32, numpy=\n",
       " array([[-3.7303306e-07,  9.2464529e-07, -4.8525555e-07, ...,\n",
       "          4.6319357e-07, -1.8489877e-07, -2.0984476e-07],\n",
       "        [ 3.3750749e-07, -1.2918088e-07, -1.3604317e-07, ...,\n",
       "          8.9607632e-08,  2.3423735e-07,  2.6648260e-07],\n",
       "        [-6.3994605e-07, -5.4660654e-07, -1.6405896e-07, ...,\n",
       "         -5.1693621e-07, -5.7015086e-09, -1.8625168e-07],\n",
       "        ...,\n",
       "        [ 4.4277553e-07, -2.6847715e-08,  5.4796885e-07, ...,\n",
       "          1.1005698e-06, -2.0492067e-07,  6.7103656e-07],\n",
       "        [-1.5730809e-07, -5.9565809e-07,  8.4176065e-07, ...,\n",
       "         -1.4977776e-07, -3.7249342e-07,  2.9415730e-08],\n",
       "        [-5.5519996e-07, -1.3491535e-06, -4.3005218e-07, ...,\n",
       "          1.3446090e-07, -2.9626688e-07, -1.2954857e-08]], dtype=float32)>,\n",
       " <tf.Tensor: shape=(256, 1024), dtype=float32, numpy=\n",
       " array([[ 3.4509133e-09, -1.5853175e-08,  1.2951036e-08, ...,\n",
       "          1.0467946e-07,  2.0475920e-08, -1.0278044e-08],\n",
       "        [-5.5913745e-08, -6.2253307e-08, -1.4486874e-08, ...,\n",
       "         -5.0743630e-08, -3.3524742e-08,  4.1804888e-09],\n",
       "        [ 1.6681717e-08,  8.3961723e-08,  1.2957537e-07, ...,\n",
       "          1.6471454e-08, -3.7565542e-09, -2.0767911e-07],\n",
       "        ...,\n",
       "        [-7.4447755e-09, -3.7127961e-08,  2.3737712e-07, ...,\n",
       "         -6.2211757e-07,  2.5834535e-08,  1.0058066e-08],\n",
       "        [ 1.3356919e-08, -1.9529168e-08, -3.8746347e-08, ...,\n",
       "          8.6810296e-08,  3.4091393e-08,  1.0722290e-07],\n",
       "        [ 2.1487931e-09,  1.1416215e-07, -1.4623417e-08, ...,\n",
       "          1.3437499e-07, -1.1155653e-07, -9.9783293e-08]], dtype=float32)>,\n",
       " <tf.Tensor: shape=(1024,), dtype=float32, numpy=\n",
       " array([-1.3333429e-05,  3.5141775e-06,  9.8269293e-06, ...,\n",
       "         8.4260610e-06, -9.7387383e-06, -2.4124469e-05], dtype=float32)>,\n",
       " <tf.Tensor: shape=(256, 512), dtype=float32, numpy=\n",
       " array([[ 1.04006325e-07, -1.03334230e-08,  9.94953666e-08, ...,\n",
       "          1.75654847e-07,  2.68968961e-07, -1.54789348e-07],\n",
       "        [-5.99825398e-08,  1.73690523e-07,  1.14260423e-07, ...,\n",
       "         -1.27318856e-07,  2.01263717e-07,  3.75322600e-07],\n",
       "        [-4.22986091e-10,  1.23772509e-07,  8.33367153e-09, ...,\n",
       "         -1.12914307e-07, -1.00070736e-07, -2.45729481e-08],\n",
       "        ...,\n",
       "        [ 6.97557851e-08, -4.29239257e-08, -1.67545338e-08, ...,\n",
       "         -1.42840406e-07, -8.28300131e-08, -2.29063460e-07],\n",
       "        [-5.49295365e-09,  1.39389883e-07, -3.55923078e-08, ...,\n",
       "          4.38693100e-08,  1.73643045e-07,  1.18071242e-07],\n",
       "        [-1.32700450e-07, -2.58138698e-07, -5.23538830e-08, ...,\n",
       "         -8.48909281e-08,  2.64613931e-08,  2.26196221e-07]], dtype=float32)>,\n",
       " <tf.Tensor: shape=(128, 512), dtype=float32, numpy=\n",
       " array([[ 1.4742611e-07,  2.7839535e-09,  1.0790443e-07, ...,\n",
       "         -1.6859918e-08,  3.5765382e-09,  7.1930515e-08],\n",
       "        [ 3.8638262e-08,  3.4383450e-07,  1.3009883e-07, ...,\n",
       "         -4.8458624e-08,  1.2037277e-07,  7.2259780e-08],\n",
       "        [ 6.9877260e-10, -1.9549648e-07, -6.2231855e-08, ...,\n",
       "         -1.9944217e-08, -4.6557080e-08,  1.0175655e-07],\n",
       "        ...,\n",
       "        [ 8.9501988e-08, -3.8881367e-08,  1.0234862e-08, ...,\n",
       "         -8.6474643e-08, -3.8580424e-08, -1.0026492e-07],\n",
       "        [-8.1812786e-08,  1.2349003e-07,  4.0071207e-08, ...,\n",
       "          6.2256007e-08,  3.7670119e-07,  4.0648480e-08],\n",
       "        [-7.2235153e-08, -2.1364511e-07,  5.1320363e-08, ...,\n",
       "         -3.2651595e-08, -1.5339403e-07,  4.1096044e-07]], dtype=float32)>,\n",
       " <tf.Tensor: shape=(512,), dtype=float32, numpy=\n",
       " array([ 1.70044041e-05, -5.21375769e-05,  1.31430788e-05,  1.21272409e-04,\n",
       "         1.32487512e-05,  2.68762324e-06, -3.70157031e-05, -5.82783941e-05,\n",
       "         5.71362725e-05, -5.23230619e-06,  1.31137058e-04,  2.01730290e-06,\n",
       "        -4.38337884e-05, -1.09635585e-05, -2.43346331e-05,  7.98450674e-06,\n",
       "        -3.60773665e-05, -2.66466486e-05, -4.26156475e-06,  4.89218583e-05,\n",
       "         7.48134516e-06, -2.36521846e-05,  5.99913801e-06,  2.66927818e-05,\n",
       "        -2.46739146e-05,  2.31596687e-06,  5.03017509e-06, -9.17018042e-06,\n",
       "         2.13458698e-05,  1.93273881e-05, -1.29520249e-05,  1.53570945e-05,\n",
       "        -6.74605690e-06,  8.02299473e-06, -1.39823342e-05, -4.72726715e-05,\n",
       "        -3.22674532e-06,  2.01112925e-05,  2.20394286e-05, -3.07963237e-05,\n",
       "         3.99430428e-05, -8.63945024e-05,  1.77037728e-05, -4.73899672e-05,\n",
       "         1.37778379e-05, -9.26887515e-05, -5.99682880e-06, -3.35308032e-05,\n",
       "         1.70445837e-05,  5.78733743e-05, -6.29180249e-07,  3.17617269e-05,\n",
       "        -5.05577555e-06, -2.25658714e-05,  2.05265314e-05, -6.98923468e-05,\n",
       "        -2.60867128e-05, -4.12560148e-05, -2.64135906e-05, -1.11522804e-05,\n",
       "        -4.34152316e-05,  1.70460135e-05,  5.43812030e-06, -8.77536331e-06,\n",
       "         3.72990944e-05, -3.25605506e-05, -1.06159041e-05,  1.15161092e-05,\n",
       "        -4.43071076e-05,  1.29182190e-05, -2.43953546e-05,  3.59450587e-06,\n",
       "        -2.69195152e-05,  1.02576723e-05,  3.67956054e-05,  3.17127342e-05,\n",
       "        -3.41440063e-05,  8.63130299e-06,  3.44415312e-05, -1.52210514e-05,\n",
       "         2.58798809e-05,  4.87300058e-05,  9.62222839e-06, -6.44281536e-05,\n",
       "        -2.19241883e-05,  1.32228597e-04, -3.54232034e-05,  2.47518965e-05,\n",
       "        -5.04943746e-05,  4.00658864e-05,  6.52341478e-05, -2.59214248e-05,\n",
       "        -5.40303736e-05,  6.29020724e-06, -1.20682153e-05,  7.68750215e-06,\n",
       "         1.10728670e-05,  1.36670405e-06, -4.76629139e-05, -2.47885964e-07,\n",
       "         1.10715146e-05,  5.62361456e-05,  1.11603922e-05, -3.42758358e-05,\n",
       "        -3.09682764e-05,  1.08820150e-05, -5.45224357e-05, -2.53914604e-05,\n",
       "         8.33059948e-06, -1.13086780e-05,  2.40579302e-05,  4.35857801e-05,\n",
       "        -2.64233313e-06,  1.09901521e-07, -2.00689683e-05,  2.57651482e-05,\n",
       "         8.86127691e-06, -3.17432432e-06, -1.47688352e-05,  4.32566594e-05,\n",
       "        -3.70372582e-05,  4.76188798e-05, -8.61811423e-05, -4.20347715e-06,\n",
       "        -3.73338517e-05, -2.35976768e-05, -6.86666172e-05,  5.00314018e-05,\n",
       "         3.36496014e-05, -5.35881554e-05, -4.54199380e-06,  1.73034539e-04,\n",
       "         1.38189771e-05, -1.48190693e-05, -4.96162975e-05, -1.21861289e-04,\n",
       "         3.64384687e-05, -3.82555390e-06,  1.91479659e-04,  7.06093670e-06,\n",
       "        -6.43718522e-05, -2.80469249e-05, -1.84369201e-05,  3.73518960e-05,\n",
       "        -4.04238817e-05, -3.19452229e-05, -1.33103986e-05,  6.99872471e-05,\n",
       "         4.08491105e-05, -3.16198202e-05, -7.68771588e-06,  4.60372030e-05,\n",
       "        -7.16902796e-05,  8.59441116e-06,  2.70885321e-05, -1.16034971e-05,\n",
       "         2.29581074e-05,  1.89915718e-05, -2.45567735e-05,  1.73550980e-05,\n",
       "        -1.91664149e-05,  1.48585477e-05, -3.25559959e-05, -5.89408373e-05,\n",
       "        -6.39587870e-06,  3.34383731e-05,  3.88837834e-05, -4.03992017e-05,\n",
       "         2.62774920e-05, -1.00649253e-04,  2.91223150e-05, -3.63027611e-05,\n",
       "         3.68708497e-05, -1.45030441e-04,  1.18713251e-05, -3.06186776e-05,\n",
       "         3.56441069e-06,  6.95281633e-05, -8.08708319e-06,  2.89767850e-05,\n",
       "        -2.62123867e-05, -2.56218755e-05,  2.49780860e-05, -8.86486087e-05,\n",
       "        -3.60408776e-05, -7.12163164e-05, -2.85697352e-05, -1.69085306e-05,\n",
       "        -2.90039716e-05,  1.75198129e-05,  4.22848098e-05,  7.56574764e-06,\n",
       "         6.81306119e-05, -4.67767459e-05, -3.97177500e-05,  2.75238745e-05,\n",
       "        -4.16758339e-05,  2.90305998e-05, -5.93349905e-05,  1.53909969e-05,\n",
       "        -4.99264133e-05,  4.27254781e-05,  4.23210586e-05,  4.35318252e-05,\n",
       "        -3.78653385e-05,  1.36154422e-05,  5.71042110e-05, -9.31495379e-07,\n",
       "         2.95219652e-05,  7.54861831e-05,  2.21221362e-05, -8.32573060e-05,\n",
       "        -6.05859259e-06,  2.05555567e-04, -6.21566796e-05,  4.00294157e-05,\n",
       "        -6.05901478e-05,  6.32631709e-05,  8.43825546e-05, -1.97471436e-05,\n",
       "        -6.48410714e-05, -7.33659181e-06, -4.27607301e-05,  2.29916077e-05,\n",
       "         6.41348970e-06, -2.62115700e-05, -5.13586529e-05,  3.85443309e-06,\n",
       "         7.30894499e-07,  8.21378344e-05,  8.64577487e-06, -4.52443528e-05,\n",
       "        -2.62916074e-05,  3.22918859e-05, -8.21393041e-05, -1.28964211e-05,\n",
       "         1.85732824e-05, -5.44362410e-06,  3.65197120e-05,  7.90955019e-05,\n",
       "         8.23555729e-06,  1.59518313e-05, -4.32809975e-05,  4.52148015e-05,\n",
       "         2.93602534e-05, -1.01395626e-05, -2.69909287e-05,  7.44370336e-05,\n",
       "        -7.24473794e-05,  4.57789320e-05, -1.16056639e-04, -3.30121838e-05,\n",
       "        -6.64950276e-05, -1.01016576e-05, -1.00948804e-04,  5.77865940e-05,\n",
       "         2.89564990e-02,  3.18852663e-02, -9.63011757e-03, -6.11977242e-02,\n",
       "         6.77396217e-03, -1.78573318e-02, -1.66289520e-03, -4.40571755e-02,\n",
       "        -1.40477298e-03, -3.09282579e-02,  5.97517863e-02,  5.60455304e-03,\n",
       "        -3.24498937e-02, -2.03620698e-02, -4.20481805e-03,  1.22962808e-02,\n",
       "        -1.66563597e-02,  5.82159162e-02,  1.66653506e-02,  2.73197331e-02,\n",
       "        -3.82456332e-02,  6.21464802e-03, -1.30167790e-03, -2.24638768e-02,\n",
       "        -7.33062485e-03, -2.42563877e-02,  1.87798087e-02, -1.48027744e-02,\n",
       "         2.00124155e-03,  6.68931380e-03, -1.02339303e-02,  1.10674556e-02,\n",
       "         2.38576904e-02, -2.19097249e-02, -3.71639850e-03,  2.75625475e-02,\n",
       "        -2.56763287e-02,  1.25490120e-02, -8.14427063e-03,  4.55764271e-02,\n",
       "        -4.39393856e-02, -4.16407436e-02,  2.59524137e-02, -1.61064025e-02,\n",
       "        -1.62451826e-02,  3.50908563e-02, -2.25278847e-02,  2.04260144e-02,\n",
       "        -1.37372091e-02,  2.77394429e-02,  4.14939690e-03,  1.25456471e-02,\n",
       "         3.74139622e-02,  1.16195371e-02,  2.12114528e-02, -6.87874705e-02,\n",
       "         3.56631614e-02, -4.53508738e-03,  2.92787831e-02,  5.11883199e-03,\n",
       "         8.54217447e-03,  3.06617841e-02, -1.89906582e-02, -3.13796774e-02,\n",
       "         1.79630425e-02, -8.40640590e-02, -1.17586963e-02,  4.52681538e-03,\n",
       "        -1.28648169e-02, -3.16901244e-02, -1.60283521e-02,  5.24032488e-02,\n",
       "        -4.46609557e-02,  9.93639790e-03,  3.78842186e-03, -3.29985991e-02,\n",
       "        -2.22479850e-02,  3.61202136e-02, -2.75122635e-02, -1.36210956e-02,\n",
       "        -2.02566627e-02, -2.50568427e-02,  2.59221364e-02,  2.92388760e-02,\n",
       "         9.35154967e-05,  5.06517217e-02,  6.96208980e-03,  2.84070279e-02,\n",
       "         2.99771316e-02,  3.60583067e-02, -1.64064206e-02,  5.04631773e-02,\n",
       "        -1.24410614e-02,  1.80180557e-02,  1.66937821e-02, -1.75490938e-02,\n",
       "         8.22514854e-03,  3.22753713e-02,  6.85319752e-02,  2.20761709e-02,\n",
       "        -4.30945680e-03, -2.01530140e-02,  5.54688834e-03, -1.17802937e-02,\n",
       "        -3.70756909e-03, -1.18495543e-02, -2.21448410e-02,  1.19660143e-02,\n",
       "         3.58524267e-03, -6.62549806e-04, -2.82638501e-02, -5.16816974e-02,\n",
       "        -1.19672809e-02, -8.06386583e-03, -2.94530415e-03, -4.89733787e-03,\n",
       "        -1.36591196e-02,  1.75700467e-02, -4.58942261e-03, -2.49080658e-02,\n",
       "        -1.10136718e-02, -4.21809079e-03,  5.07228822e-02, -1.75841025e-03,\n",
       "         7.73824286e-04, -9.41288192e-03,  1.20616611e-02,  2.06519328e-02,\n",
       "         2.12980412e-05, -5.03104275e-05,  6.52132894e-06,  1.52063454e-04,\n",
       "         1.84410383e-05, -4.25932376e-06, -4.36627743e-05, -7.39697862e-05,\n",
       "         6.91284222e-05, -1.87603905e-06,  1.50174252e-04,  1.44799487e-05,\n",
       "        -4.73658802e-05, -1.59799893e-05, -2.59094923e-05,  7.32120589e-06,\n",
       "        -3.32027048e-05, -2.78159041e-05, -2.62466256e-06,  6.27059562e-05,\n",
       "         1.27792373e-05, -2.52812897e-05,  3.43874763e-06,  2.88872361e-05,\n",
       "        -2.42304304e-05,  2.20558059e-06,  1.76429403e-05, -4.28952626e-06,\n",
       "         2.79535197e-05,  2.44952316e-05, -8.11005066e-06,  1.32884588e-05,\n",
       "        -8.29545479e-06,  4.01617945e-06, -2.00470840e-05, -6.19768980e-05,\n",
       "        -3.05392859e-06,  2.48147189e-05,  2.65536764e-05, -3.47385576e-05,\n",
       "         4.19656790e-05, -9.10461458e-05,  2.82068395e-05, -5.21041875e-05,\n",
       "         2.88483170e-05, -1.13174341e-04,  5.67363713e-06, -4.31676599e-05,\n",
       "         1.01408323e-05,  7.03207916e-05, -2.01908733e-06,  2.34227155e-05,\n",
       "        -1.79575327e-05, -2.29266770e-05,  2.48633296e-05, -7.23905541e-05,\n",
       "        -3.06688016e-05, -4.52323002e-05, -2.00857939e-05, -1.56470851e-05,\n",
       "        -5.14329004e-05,  6.85320265e-06,  1.42501140e-05,  1.04677383e-06,\n",
       "         4.64554214e-05, -3.62808605e-05, -1.40434795e-05,  1.73923963e-05,\n",
       "        -4.69364859e-05,  1.78351038e-05, -2.64464506e-05,  8.00332145e-06,\n",
       "        -2.36044452e-05,  1.46508064e-05,  4.33263995e-05,  3.85663552e-05,\n",
       "        -3.53166906e-05,  7.15917349e-06,  3.01666314e-05, -1.66637947e-05,\n",
       "         2.19181020e-05,  6.58923527e-05,  7.83375071e-08, -6.91542300e-05,\n",
       "        -2.97716797e-05,  1.53091780e-04, -4.14028254e-05,  3.57846220e-05,\n",
       "        -5.69532349e-05,  3.40028018e-05,  7.69494436e-05, -3.32359159e-05,\n",
       "        -5.71886158e-05,  1.08369386e-05, -1.21871162e-05,  1.09466982e-05,\n",
       "         3.47584637e-06,  2.69236489e-06, -5.07056357e-05, -2.29895340e-06,\n",
       "         1.20658615e-05,  6.60192163e-05,  9.26038138e-06, -3.73105868e-05,\n",
       "        -3.10712931e-05,  1.83142620e-05, -5.31442129e-05, -3.29605355e-05,\n",
       "         7.77285459e-06, -1.05117470e-05,  1.87359292e-05,  4.06543259e-05,\n",
       "        -5.18599336e-06,  5.31443720e-06, -3.31061165e-05,  3.53031573e-05,\n",
       "         1.26966461e-05, -4.30182308e-06, -2.14036736e-05,  5.05129865e-05,\n",
       "        -3.91806534e-05,  4.71170242e-05, -1.02378013e-04, -6.33899981e-06,\n",
       "        -3.62812534e-05, -1.43767884e-05, -7.98271358e-05,  4.57781498e-05],\n",
       "       dtype=float32)>,\n",
       " <tf.Tensor: shape=(128, 10000), dtype=float32, numpy=\n",
       " array([[-1.0701837e-03, -9.1326551e-04, -8.6057710e-04, ...,\n",
       "          1.9299259e-06,  1.9285430e-06,  1.9299923e-06],\n",
       "        [ 1.7270551e-03,  2.5004779e-03,  1.0994627e-03, ...,\n",
       "         -2.5706786e-06, -2.5700997e-06, -2.5695863e-06],\n",
       "        [-1.0037411e-03, -1.4016180e-03, -2.8556711e-03, ...,\n",
       "          3.7698946e-06,  3.7690570e-06,  3.7696550e-06],\n",
       "        ...,\n",
       "        [-2.3594087e-03, -2.3722195e-03, -2.3589921e-03, ...,\n",
       "          3.5542289e-06,  3.5531762e-06,  3.5537639e-06],\n",
       "        [ 3.0610436e-03,  2.5213868e-03,  4.0588579e-03, ...,\n",
       "         -6.3667035e-06, -6.3647417e-06, -6.3659318e-06],\n",
       "        [-2.4869326e-03, -2.7739855e-03, -2.2194793e-03, ...,\n",
       "          4.6474165e-06,  4.6455903e-06,  4.6449431e-06]], dtype=float32)>,\n",
       " <tf.Tensor: shape=(10000,), dtype=float32, numpy=\n",
       " array([-0.79799825, -1.0313314 , -1.0313314 , ...,  0.00200058,\n",
       "         0.00199975,  0.00200007], dtype=float32)>]"
      ]
     },
     "execution_count": 48,
     "metadata": {},
     "output_type": "execute_result"
    }
   ],
   "source": [
    "# Define the gradient clipping threshold\n",
    "grads, _ = tf.clip_by_global_norm(grad_t_list, max_grad_norm)\n",
    "grads"
   ]
  },
  {
   "cell_type": "markdown",
   "metadata": {},
   "source": [
    "<h4> 4.Apply the optimizer to the variables/gradients tuple. </h4>\n"
   ]
  },
  {
   "cell_type": "code",
   "execution_count": 49,
   "metadata": {},
   "outputs": [],
   "source": [
    "# Create the training TensorFlow Operation through our optimizer\n",
    "train_op = optimizer.apply_gradients(zip(grads, tvars))"
   ]
  },
  {
   "cell_type": "markdown",
   "metadata": {},
   "source": [
    "<a id=\"ltsm\"></a>\n",
    "<h2>LSTM</h2>\n"
   ]
  },
  {
   "cell_type": "markdown",
   "metadata": {},
   "source": [
    "We learned how the model is build step by step. Noe, let's then create a Class that represents our model. This class needs a few things:\n",
    "<ul>\n",
    "    <li>We have to create the model in accordance with our defined hyperparameters</li>\n",
    "    <li>We have to create the LSTM cell structure and connect them with our RNN structure</li>\n",
    "    <li>We have to create the word embeddings and point them to the input data</li>\n",
    "    <li>We have to create the input structure for our RNN</li>\n",
    "    <li>We need to create a logistic structure to return the probability of our words</li>\n",
    "    <li>We need to create the loss and cost functions for our optimizer to work, and then create the optimizer</li>\n",
    "    <li>And finally, we need to create a training operation that can be run to actually train our model</li>\n",
    "</ul>\n"
   ]
  },
  {
   "cell_type": "code",
   "execution_count": 50,
   "metadata": {},
   "outputs": [],
   "source": [
    "class PTBModel(object):\n",
    "\n",
    "\n",
    "    def __init__(self):\n",
    "        ######################################\n",
    "        # Setting parameters for ease of use #\n",
    "        ######################################\n",
    "        self.batch_size = batch_size\n",
    "        self.num_steps = num_steps\n",
    "        self.hidden_size_l1 = hidden_size_l1\n",
    "        self.hidden_size_l2 = hidden_size_l2\n",
    "        self.vocab_size = vocab_size\n",
    "        self.embeding_vector_size = embeding_vector_size\n",
    "        # Create a variable for the learning rate\n",
    "        self._lr = 1.0\n",
    "        \n",
    "        ###############################################################################\n",
    "        # Initializing the model using keras Sequential API  #\n",
    "        ###############################################################################\n",
    "        \n",
    "        self._model = tf.keras.models.Sequential()\n",
    "        \n",
    "        ####################################################################\n",
    "        # Creating the word embeddings layer and adding it to the sequence #\n",
    "        ####################################################################\n",
    "        with tf.device(\"/cpu:0\"):\n",
    "            # Create the embeddings for our input data. Size is hidden size.\n",
    "            self._embedding_layer = tf.keras.layers.Embedding(self.vocab_size, self.embeding_vector_size,batch_input_shape=(self.batch_size, self.num_steps),trainable=True,name=\"embedding_vocab\")  #[10000x200]\n",
    "            self._model.add(self._embedding_layer)\n",
    "            \n",
    "\n",
    "        ##########################################################################\n",
    "        # Creating the LSTM cell structure and connect it with the RNN structure #\n",
    "        ##########################################################################\n",
    "        # Create the LSTM Cells. \n",
    "        # This creates only the structure for the LSTM and has to be associated with a RNN unit still.\n",
    "        # The argument  of LSTMCell is size of hidden layer, that is, the number of hidden units of the LSTM (inside A). \n",
    "        # LSTM cell processes one word at a time and computes probabilities of the possible continuations of the sentence.\n",
    "        lstm_cell_l1 = tf.keras.layers.LSTMCell(hidden_size_l1)\n",
    "        lstm_cell_l2 = tf.keras.layers.LSTMCell(hidden_size_l2)\n",
    "        \n",
    "\n",
    "        \n",
    "        # By taking in the LSTM cells as parameters, the StackedRNNCells function junctions the LSTM units to the RNN units.\n",
    "        # RNN cell composed sequentially of stacked simple cells.\n",
    "        stacked_lstm = tf.keras.layers.StackedRNNCells([lstm_cell_l1, lstm_cell_l2])\n",
    "\n",
    "\n",
    "        \n",
    "\n",
    "        ############################################\n",
    "        # Creating the input structure for our RNN #\n",
    "        ############################################\n",
    "        # Input structure is 20x[30x200]\n",
    "        # Considering each word is represended by a 200 dimentional vector, and we have 30 batchs, we create 30 word-vectors of size [30xx2000]\n",
    "        # The input structure is fed from the embeddings, which are filled in by the input data\n",
    "        # Feeding a batch of b sentences to a RNN:\n",
    "        # In step 1,  first word of each of the b sentences (in a batch) is input in parallel.  \n",
    "        # In step 2,  second word of each of the b sentences is input in parallel. \n",
    "        # The parallelism is only for efficiency.  \n",
    "        # Each sentence in a batch is handled in parallel, but the network sees one word of a sentence at a time and does the computations accordingly. \n",
    "        # All the computations involving the words of all sentences in a batch at a given time step are done in parallel. \n",
    "\n",
    "        ########################################################################################################\n",
    "        # Instantiating our RNN model and setting stateful to True to feed forward the state to the next layer #\n",
    "        ########################################################################################################\n",
    "        \n",
    "        self._RNNlayer  =  tf.keras.layers.RNN(stacked_lstm,[batch_size, num_steps],return_state=False,stateful=True,trainable=True)\n",
    "        \n",
    "        # Define the initial state, i.e., the model state for the very first data point\n",
    "        # It initialize the state of the LSTM memory. The memory state of the network is initialized with a vector of zeros and gets updated after reading each word.\n",
    "        self._initial_state = tf.Variable(tf.zeros([batch_size,embeding_vector_size]),trainable=False)\n",
    "        self._RNNlayer.inital_state = self._initial_state\n",
    "    \n",
    "        ############################################\n",
    "        # Adding RNN layer to keras sequential API #\n",
    "        ############################################        \n",
    "        self._model.add(self._RNNlayer)\n",
    "        \n",
    "        #self._model.add(tf.keras.layers.LSTM(hidden_size_l1,return_sequences=True,stateful=True))\n",
    "        #self._model.add(tf.keras.layers.LSTM(hidden_size_l2,return_sequences=True))\n",
    "        \n",
    "        \n",
    "        ####################################################################################################\n",
    "        # Instantiating a Dense layer that connects the output to the vocab_size  and adding layer to model#\n",
    "        ####################################################################################################\n",
    "        self._dense = tf.keras.layers.Dense(self.vocab_size)\n",
    "        self._model.add(self._dense)\n",
    " \n",
    "        \n",
    "        ####################################################################################################\n",
    "        # Adding softmax activation layer and deriving probability to each class and adding layer to model #\n",
    "        ####################################################################################################\n",
    "        self._activation = tf.keras.layers.Activation('softmax')\n",
    "        self._model.add(self._activation)\n",
    "\n",
    "        ##########################################################\n",
    "        # Instantiating the stochastic gradient decent optimizer #\n",
    "        ########################################################## \n",
    "        self._optimizer = tf.keras.optimizers.SGD(lr=self._lr, clipnorm=max_grad_norm)\n",
    "        \n",
    "        \n",
    "        ##############################################################################\n",
    "        # Compiling and summarizing the model stacked using the keras sequential API #\n",
    "        ##############################################################################\n",
    "        self._model.compile(loss=self.crossentropy, optimizer=self._optimizer)\n",
    "        self._model.summary()\n",
    "\n",
    "\n",
    "    def crossentropy(self,y_true, y_pred):\n",
    "        return tf.keras.losses.sparse_categorical_crossentropy(y_true, y_pred)\n",
    "\n",
    "    def train_batch(self,_input_data,_targets):\n",
    "        #################################################\n",
    "        # Creating the Training Operation for our Model #\n",
    "        #################################################\n",
    "        # Create a variable for the learning rate\n",
    "        self._lr = tf.Variable(0.0, trainable=False)\n",
    "        # Get all TensorFlow variables marked as \"trainable\" (i.e. all of them except _lr, which we just created)\n",
    "        tvars = self._model.trainable_variables\n",
    "        # Define the gradient clipping threshold\n",
    "        with tf.GradientTape() as tape:\n",
    "            # Forward pass.\n",
    "            output_words_prob = self._model(_input_data)\n",
    "            # Loss value for this batch.\n",
    "            loss  = self.crossentropy(_targets, output_words_prob)\n",
    "            # average across batch and reduce sum\n",
    "            cost = tf.reduce_sum(loss/ self.batch_size)\n",
    "        # Get gradients of loss wrt the trainable variables.\n",
    "        grad_t_list = tape.gradient(cost, tvars)\n",
    "        # Define the gradient clipping threshold\n",
    "        grads, _ = tf.clip_by_global_norm(grad_t_list, max_grad_norm)\n",
    "        # Create the training TensorFlow Operation through our optimizer\n",
    "        train_op = self._optimizer.apply_gradients(zip(grads, tvars))\n",
    "        return cost\n",
    "        \n",
    "    def test_batch(self,_input_data,_targets):\n",
    "        #################################################\n",
    "        # Creating the Testing Operation for our Model #\n",
    "        #################################################\n",
    "        output_words_prob = self._model(_input_data)\n",
    "        loss  = self.crossentropy(_targets, output_words_prob)\n",
    "        # average across batch and reduce sum\n",
    "        cost = tf.reduce_sum(loss/ self.batch_size)\n",
    "\n",
    "        return cost\n",
    "    @classmethod\n",
    "    def instance(cls) : \n",
    "        return PTBModel()"
   ]
  },
  {
   "cell_type": "markdown",
   "metadata": {},
   "source": [
    "With that, the actual structure of our Recurrent Neural Network with Long Short-Term Memory is finished. What remains for us to do is to actually create the methods to run through time -- that is, the <code>run_epoch</code> method to be run at each epoch and a <code>main</code> script which ties all of this together.\n",
    "\n",
    "What our <code>run_epoch</code> method should do is take our input data and feed it to the relevant operations. This will return at the very least the current result for the cost function.\n"
   ]
  },
  {
   "cell_type": "code",
   "execution_count": 51,
   "metadata": {},
   "outputs": [],
   "source": [
    "\n",
    "########################################################################################################################\n",
    "# run_one_epoch takes as parameters  the model instance, the data to be fed, training or testing mode and verbose info #\n",
    "########################################################################################################################\n",
    "def run_one_epoch(m, data,is_training=True,verbose=False):\n",
    "\n",
    "    #Define the epoch size based on the length of the data, batch size and the number of steps\n",
    "    epoch_size = ((len(data) // m.batch_size) - 1) // m.num_steps\n",
    "    start_time = time.time()\n",
    "    costs = 0.\n",
    "    iters = 0\n",
    "    \n",
    "    m._model.reset_states()\n",
    "    \n",
    "    #For each step and data point\n",
    "    for step, (x, y) in enumerate(ptb_iterator(data, m.batch_size, m.num_steps)):\n",
    "        \n",
    "        #Evaluate and return cost, state by running cost, final_state and the function passed as parameter\n",
    "        #y = tf.keras.utils.to_categorical(y, num_classes=vocab_size)\n",
    "        if is_training : \n",
    "            loss=  m.train_batch(x, y)\n",
    "        else :\n",
    "            loss = m.test_batch(x, y)\n",
    "                                   \n",
    "\n",
    "        #Add returned cost to costs (which keeps track of the total costs for this epoch)\n",
    "        costs += loss\n",
    "        \n",
    "        #Add number of steps to iteration counter\n",
    "        iters += m.num_steps\n",
    "\n",
    "        if verbose and step % (epoch_size // 10) == 10:\n",
    "            print(\"Itr %d of %d, perplexity: %.3f speed: %.0f wps\" % (step , epoch_size, np.exp(costs / iters), iters * m.batch_size / (time.time() - start_time)))\n",
    "        \n",
    "\n",
    "\n",
    "    # Returns the Perplexity rating for us to keep track of how the model is evolving\n",
    "    return np.exp(costs / iters)\n"
   ]
  },
  {
   "cell_type": "markdown",
   "metadata": {},
   "source": [
    "Now, we create the <code>main</code> method to tie everything together. The code here reads the data from the directory, using the <code>reader</code> helper module, and then trains and evaluates the model on both a testing and a validating subset of data.\n"
   ]
  },
  {
   "cell_type": "code",
   "execution_count": 52,
   "metadata": {},
   "outputs": [],
   "source": [
    "# Reads the data and separates it into training data, validation data and testing data\n",
    "raw_data = ptb_raw_data(data_dir)\n",
    "train_data, valid_data, test_data, _, _ = raw_data"
   ]
  },
  {
   "cell_type": "code",
   "execution_count": null,
   "metadata": {},
   "outputs": [
    {
     "name": "stdout",
     "output_type": "stream",
     "text": [
      "Model: \"sequential_1\"\n",
      "_________________________________________________________________\n",
      " Layer (type)                Output Shape              Param #   \n",
      "=================================================================\n",
      " embedding_vocab (Embedding)  (30, 20, 200)            2000000   \n",
      "                                                                 \n",
      " rnn_1 (RNN)                 (30, 20, 128)             671088    \n",
      "                                                                 \n",
      " dense_1 (Dense)             (30, 20, 10000)           1290000   \n",
      "                                                                 \n",
      " activation_1 (Activation)   (30, 20, 10000)           0         \n",
      "                                                                 \n",
      "=================================================================\n",
      "Total params: 3,961,088\n",
      "Trainable params: 3,955,088\n",
      "Non-trainable params: 6,000\n",
      "_________________________________________________________________\n",
      "Epoch 1 : Learning rate: 1.000\n",
      "Itr 10 of 1549, perplexity: 4640.575 speed: 1111 wps\n"
     ]
    }
   ],
   "source": [
    "# Instantiates the PTBModel class\n",
    "m=PTBModel.instance()   \n",
    "K = tf.keras.backend \n",
    "for i in range(max_epoch):\n",
    "    # Define the decay for this epoch\n",
    "    lr_decay = decay ** max(i - max_epoch_decay_lr, 0.0)\n",
    "    dcr = learning_rate * lr_decay\n",
    "    m._lr = dcr\n",
    "    K.set_value(m._model.optimizer.learning_rate,m._lr)\n",
    "    print(\"Epoch %d : Learning rate: %.3f\" % (i + 1, m._model.optimizer.learning_rate))\n",
    "    # Run the loop for this epoch in the training mode\n",
    "    train_perplexity = run_one_epoch(m, train_data,is_training=True,verbose=True)\n",
    "    print(\"Epoch %d : Train Perplexity: %.3f\" % (i + 1, train_perplexity))\n",
    "        \n",
    "    # Run the loop for this epoch in the validation mode\n",
    "    valid_perplexity = run_one_epoch(m, valid_data,is_training=False,verbose=False)\n",
    "    print(\"Epoch %d : Valid Perplexity: %.3f\" % (i + 1, valid_perplexity))\n",
    "    \n",
    "# Run the loop in the testing mode to see how effective was our training\n",
    "test_perplexity = run_one_epoch(m, test_data,is_training=False,verbose=False)\n",
    "print(\"Test Perplexity: %.3f\" % test_perplexity)\n",
    "\n"
   ]
  },
  {
   "cell_type": "markdown",
   "metadata": {},
   "source": [
    "As you can see, the model's perplexity rating drops very quickly after a few iterations. As was elaborated before, <b>lower Perplexity means that the model is more certain about its prediction</b>. As such, we can be sure that this model is performing well!\n"
   ]
  },
  {
   "cell_type": "markdown",
   "metadata": {},
   "source": [
    "-------\n"
   ]
  },
  {
   "cell_type": "markdown",
   "metadata": {},
   "source": [
    "This is the end of the <b>Applying Recurrent Neural Networks to Text Processing</b> notebook. Hopefully you now have a better understanding of Recurrent Neural Networks and how to implement one utilizing TensorFlow. Thank you for reading this notebook, and good luck on your studies.\n"
   ]
  },
  {
   "cell_type": "markdown",
   "metadata": {},
   "source": [
    "## Want to learn more?\n",
    "\n",
    "Also, you can use __Watson Studio__ to run these notebooks faster with bigger datasets.__Watson Studio__ is IBM’s leading cloud solution for data scientists, built by data scientists. With Jupyter notebooks, RStudio, Apache Spark and popular libraries pre-packaged in the cloud, __Watson Studio__ enables data scientists to collaborate on their projects without having to install anything. Join the fast-growing community of __Watson Studio__ users today with a free account at [Watson Studio](https://cocl.us/ML0120EN_DSX).This is the end of this lesson. Thank you for reading this notebook, and good luck on your studies.\n"
   ]
  },
  {
   "cell_type": "markdown",
   "metadata": {},
   "source": [
    "### Thanks for completing this lesson!\n",
    "\n",
    "Notebook created by <a href=\"https://br.linkedin.com/in/walter-gomes-de-amorim-junior-624726121?utm_medium=Exinfluencer&utm_source=Exinfluencer&utm_content=000026UJ&utm_term=10006555&utm_id=NA-SkillsNetwork-Channel-SkillsNetworkCoursesIBMDeveloperSkillsNetworkDL0120ENSkillsNetwork954-2023-01-01\">Walter Gomes de Amorim Junior</a>, <a href = \"https://linkedin.com/in/saeedaghabozorgi\"> Saeed Aghabozorgi </a></h4>\n",
    "\n",
    "\n",
    "Updated to TF 2.X by  <a href=\"https://www.linkedin.com/in/samaya-madhavan?utm_medium=Exinfluencer&utm_source=Exinfluencer&utm_content=000026UJ&utm_term=10006555&utm_id=NA-SkillsNetwork-Channel-SkillsNetworkCoursesIBMDeveloperSkillsNetworkDL0120ENSkillsNetwork954-2023-01-01\"> Samaya Madhavan </a>\n"
   ]
  },
  {
   "cell_type": "markdown",
   "metadata": {},
   "source": [
    "<hr>\n",
    "\n",
    "Copyright &copy; 2018 [Cognitive Class](https://cocl.us/DX0108EN_CC). This notebook and its source code are released under the terms of the [MIT License](https://bigdatauniversity.com/mit-license/?utm_medium=Exinfluencer&utm_source=Exinfluencer&utm_content=000026UJ&utm_term=10006555&utm_id=NA-SkillsNetwork-Channel-SkillsNetworkCoursesIBMDeveloperSkillsNetworkDL0120ENSkillsNetwork954-2023-01-01).\n"
   ]
  }
 ],
 "metadata": {
  "kernelspec": {
   "display_name": "Python",
   "language": "python",
   "name": "conda-env-python-py"
  },
  "language_info": {
   "codemirror_mode": {
    "name": "ipython",
    "version": 3
   },
   "file_extension": ".py",
   "mimetype": "text/x-python",
   "name": "python",
   "nbconvert_exporter": "python",
   "pygments_lexer": "ipython3",
   "version": "3.7.12"
  }
 },
 "nbformat": 4,
 "nbformat_minor": 4
}
